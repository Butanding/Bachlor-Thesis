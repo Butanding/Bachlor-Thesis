{
 "cells": [
  {
   "cell_type": "code",
   "execution_count": null,
   "metadata": {
    "pycharm": {
     "is_executing": false
    }
   },
   "outputs": [],
   "source": []
  },
  {
   "cell_type": "code",
   "execution_count": 120,
   "metadata": {
    "pycharm": {
     "is_executing": false
    }
   },
   "outputs": [],
   "source": [
    "import json\n",
    "import sys\n",
    "from requests import Session, Request\n",
    "from datetime import datetime, date, time, timedelta, timezone\n",
    "from posixpath import join as urljoin\n",
    "import pandas as pd\n",
    "import io\n",
    "from blume import client, station, measurements\n",
    "from blume.station import Station\n",
    "from sensemapi import client as sense_client\n",
    "import numpy as np\n",
    "import seaborn as sns\n",
    "import matplotlib.pyplot as plt\n",
    "\n",
    "from sklearn import preprocessing, svm \n",
    "from sklearn.model_selection import train_test_split \n",
    "from sklearn.linear_model import LinearRegression\n",
    "from sklearn.metrics import r2_score\n",
    "\n",
    "\n",
    "# set the graphs to show in the jupyter notebook\n",
    "%matplotlib inline\n",
    "\n",
    "# set seaborn style to white\n",
    "sns.set_style(\"white\")"
   ]
  },
  {
   "cell_type": "markdown",
   "metadata": {},
   "source": [
    "## Load Data from BLUME into Pandas Datafram\n",
    "- Load the newest Data from the Website\n",
    "- Archive into local Data Storage\n",
    "- Read all new and old Measurments from Data Storage\n",
    "- Create Global Matrix (Time x Station = Measuremt)"
   ]
  },
  {
   "cell_type": "code",
   "execution_count": 2,
   "metadata": {
    "pycharm": {
     "is_executing": false
    },
    "scrolled": true
   },
   "outputs": [
    {
     "name": "stderr",
     "output_type": "stream",
     "text": [
      "/home/konstantin/Nextcloud/HTW Stuff/Bachelorarbeit/Code/blume/client.py:84: SettingWithCopyWarning: \n",
      "A value is trying to be set on a copy of a slice from a DataFrame.\n",
      "Try using .loc[row_indexer,col_indexer] = value instead\n",
      "\n",
      "See the caveats in the documentation: http://pandas.pydata.org/pandas-docs/stable/user_guide/indexing.html#returning-a-view-versus-a-copy\n",
      "  df[\"Date\"] = cleand_dates\n",
      "/home/konstantin/.virtualenvs/Python_BA/lib/python3.6/site-packages/pandas/core/frame.py:3509: SettingWithCopyWarning: \n",
      "A value is trying to be set on a copy of a slice from a DataFrame.\n",
      "Try using .loc[row_indexer,col_indexer] = value instead\n",
      "\n",
      "See the caveats in the documentation: http://pandas.pydata.org/pandas-docs/stable/user_guide/indexing.html#returning-a-view-versus-a-copy\n",
      "  self[k1] = value[k2]\n"
     ]
    },
    {
     "data": {
      "text/html": [
       "<div>\n",
       "<style scoped>\n",
       "    .dataframe tbody tr th:only-of-type {\n",
       "        vertical-align: middle;\n",
       "    }\n",
       "\n",
       "    .dataframe tbody tr th {\n",
       "        vertical-align: top;\n",
       "    }\n",
       "\n",
       "    .dataframe thead th {\n",
       "        text-align: right;\n",
       "    }\n",
       "</style>\n",
       "<table border=\"1\" class=\"dataframe\">\n",
       "  <thead>\n",
       "    <tr style=\"text-align: right;\">\n",
       "      <th></th>\n",
       "      <th>10</th>\n",
       "      <th>32</th>\n",
       "      <th>42</th>\n",
       "      <th>77</th>\n",
       "      <th>85</th>\n",
       "      <th>88</th>\n",
       "      <th>117</th>\n",
       "      <th>124</th>\n",
       "      <th>143</th>\n",
       "      <th>171</th>\n",
       "      <th>174</th>\n",
       "      <th>220</th>\n",
       "    </tr>\n",
       "  </thead>\n",
       "  <tbody>\n",
       "    <tr>\n",
       "      <th>2020-01-05 00:00:00</th>\n",
       "      <td>11</td>\n",
       "      <td>11.0</td>\n",
       "      <td>13</td>\n",
       "      <td>12</td>\n",
       "      <td>10</td>\n",
       "      <td>12</td>\n",
       "      <td>13.0</td>\n",
       "      <td>13</td>\n",
       "      <td>18</td>\n",
       "      <td>11</td>\n",
       "      <td>14.0</td>\n",
       "      <td>14</td>\n",
       "    </tr>\n",
       "    <tr>\n",
       "      <th>2020-01-05 01:00:00</th>\n",
       "      <td>11</td>\n",
       "      <td>11.0</td>\n",
       "      <td>11</td>\n",
       "      <td>12</td>\n",
       "      <td>10</td>\n",
       "      <td>11</td>\n",
       "      <td>13.0</td>\n",
       "      <td>12</td>\n",
       "      <td>14</td>\n",
       "      <td>11</td>\n",
       "      <td>14.0</td>\n",
       "      <td>13</td>\n",
       "    </tr>\n",
       "    <tr>\n",
       "      <th>2020-01-05 02:00:00</th>\n",
       "      <td>11</td>\n",
       "      <td>12.0</td>\n",
       "      <td>12</td>\n",
       "      <td>12</td>\n",
       "      <td>10</td>\n",
       "      <td>11</td>\n",
       "      <td>13.0</td>\n",
       "      <td>13</td>\n",
       "      <td>13</td>\n",
       "      <td>11</td>\n",
       "      <td>14.0</td>\n",
       "      <td>12</td>\n",
       "    </tr>\n",
       "    <tr>\n",
       "      <th>2020-01-05 03:00:00</th>\n",
       "      <td>11</td>\n",
       "      <td>12.0</td>\n",
       "      <td>11</td>\n",
       "      <td>12</td>\n",
       "      <td>10</td>\n",
       "      <td>11</td>\n",
       "      <td>13.0</td>\n",
       "      <td>13</td>\n",
       "      <td>13</td>\n",
       "      <td>12</td>\n",
       "      <td>14.0</td>\n",
       "      <td>13</td>\n",
       "    </tr>\n",
       "    <tr>\n",
       "      <th>2020-01-05 04:00:00</th>\n",
       "      <td>11</td>\n",
       "      <td>12.0</td>\n",
       "      <td>11</td>\n",
       "      <td>12</td>\n",
       "      <td>10</td>\n",
       "      <td>11</td>\n",
       "      <td>13.0</td>\n",
       "      <td>14</td>\n",
       "      <td>14</td>\n",
       "      <td>12</td>\n",
       "      <td>14.0</td>\n",
       "      <td>12</td>\n",
       "    </tr>\n",
       "    <tr>\n",
       "      <th>2020-01-05 05:00:00</th>\n",
       "      <td>11</td>\n",
       "      <td>12.0</td>\n",
       "      <td>12</td>\n",
       "      <td>12</td>\n",
       "      <td>11</td>\n",
       "      <td>11</td>\n",
       "      <td>13.0</td>\n",
       "      <td>14</td>\n",
       "      <td>16</td>\n",
       "      <td>12</td>\n",
       "      <td>14.0</td>\n",
       "      <td>12</td>\n",
       "    </tr>\n",
       "    <tr>\n",
       "      <th>2020-01-05 06:00:00</th>\n",
       "      <td>12</td>\n",
       "      <td>11.0</td>\n",
       "      <td>12</td>\n",
       "      <td>12</td>\n",
       "      <td>11</td>\n",
       "      <td>11</td>\n",
       "      <td>14.0</td>\n",
       "      <td>14</td>\n",
       "      <td>15</td>\n",
       "      <td>12</td>\n",
       "      <td>15.0</td>\n",
       "      <td>12</td>\n",
       "    </tr>\n",
       "    <tr>\n",
       "      <th>2020-01-05 07:00:00</th>\n",
       "      <td>12</td>\n",
       "      <td>12.0</td>\n",
       "      <td>13</td>\n",
       "      <td>13</td>\n",
       "      <td>11</td>\n",
       "      <td>11</td>\n",
       "      <td>14.0</td>\n",
       "      <td>14</td>\n",
       "      <td>15</td>\n",
       "      <td>13</td>\n",
       "      <td>15.0</td>\n",
       "      <td>13</td>\n",
       "    </tr>\n",
       "    <tr>\n",
       "      <th>2020-01-05 08:00:00</th>\n",
       "      <td>12</td>\n",
       "      <td>11.0</td>\n",
       "      <td>13</td>\n",
       "      <td>14</td>\n",
       "      <td>11</td>\n",
       "      <td>12</td>\n",
       "      <td>14.0</td>\n",
       "      <td>14</td>\n",
       "      <td>15</td>\n",
       "      <td>14</td>\n",
       "      <td>15.0</td>\n",
       "      <td>14</td>\n",
       "    </tr>\n",
       "    <tr>\n",
       "      <th>2020-01-05 09:00:00</th>\n",
       "      <td>12</td>\n",
       "      <td>11.0</td>\n",
       "      <td>14</td>\n",
       "      <td>13</td>\n",
       "      <td>12</td>\n",
       "      <td>11</td>\n",
       "      <td>14.0</td>\n",
       "      <td>15</td>\n",
       "      <td>14</td>\n",
       "      <td>13</td>\n",
       "      <td>15.0</td>\n",
       "      <td>13</td>\n",
       "    </tr>\n",
       "  </tbody>\n",
       "</table>\n",
       "</div>"
      ],
      "text/plain": [
       "                     10    32   42   77   85   88    117  124  143  171   174  \\\n",
       "2020-01-05 00:00:00   11  11.0   13   12   10   12  13.0   13   18   11  14.0   \n",
       "2020-01-05 01:00:00   11  11.0   11   12   10   11  13.0   12   14   11  14.0   \n",
       "2020-01-05 02:00:00   11  12.0   12   12   10   11  13.0   13   13   11  14.0   \n",
       "2020-01-05 03:00:00   11  12.0   11   12   10   11  13.0   13   13   12  14.0   \n",
       "2020-01-05 04:00:00   11  12.0   11   12   10   11  13.0   14   14   12  14.0   \n",
       "2020-01-05 05:00:00   11  12.0   12   12   11   11  13.0   14   16   12  14.0   \n",
       "2020-01-05 06:00:00   12  11.0   12   12   11   11  14.0   14   15   12  15.0   \n",
       "2020-01-05 07:00:00   12  12.0   13   13   11   11  14.0   14   15   13  15.0   \n",
       "2020-01-05 08:00:00   12  11.0   13   14   11   12  14.0   14   15   14  15.0   \n",
       "2020-01-05 09:00:00   12  11.0   14   13   12   11  14.0   15   14   13  15.0   \n",
       "\n",
       "                     220  \n",
       "2020-01-05 00:00:00   14  \n",
       "2020-01-05 01:00:00   13  \n",
       "2020-01-05 02:00:00   12  \n",
       "2020-01-05 03:00:00   13  \n",
       "2020-01-05 04:00:00   12  \n",
       "2020-01-05 05:00:00   12  \n",
       "2020-01-05 06:00:00   12  \n",
       "2020-01-05 07:00:00   13  \n",
       "2020-01-05 08:00:00   14  \n",
       "2020-01-05 09:00:00   13  "
      ]
     },
     "execution_count": 2,
     "metadata": {},
     "output_type": "execute_result"
    }
   ],
   "source": [
    "#Scrape newest/available data from the Blume-Website\n",
    "df = client.get_blume_measurments()\n",
    "df = client.clean_data(df)\n",
    "\n",
    "#Create Measurements and append to local storage of data (JSON)\n",
    "online_measurement = client.create_measurements(df)\n",
    "\n",
    "#Initially load all Stations from local storage (JSON)\n",
    "station.init_stations()\n",
    "#Source all available Information from local storage to pandas df\n",
    "station_collection = Station.station_collection\n",
    "\n",
    "#get all available station ids and use them to get all measurements from all\n",
    "# stations\n",
    "station_ids = [station.id for station in station_collection]\n",
    "all_station_measurements = measurements.read_measurements_by_station_id_list(\n",
    "    station_ids)\n",
    "\n",
    "#from all measurements, get pandas series and combine to global matrix\n",
    "df_local = [m.dataframe for m in all_station_measurements]\n",
    "df_global = pd.concat(df_local, axis=1)\n",
    "\n",
    "\n",
    "df_global.tail(10)"
   ]
  },
  {
   "cell_type": "code",
   "execution_count": 3,
   "metadata": {},
   "outputs": [
    {
     "data": {
      "text/plain": [
       "DatetimeIndex(['2019-11-22 13:00:00', '2019-11-22 14:00:00',\n",
       "               '2019-11-22 15:00:00', '2019-11-22 16:00:00',\n",
       "               '2019-11-22 17:00:00', '2019-11-22 18:00:00',\n",
       "               '2019-11-22 19:00:00', '2019-11-22 20:00:00',\n",
       "               '2019-11-22 21:00:00', '2019-11-22 22:00:00',\n",
       "               ...\n",
       "               '2020-01-05 00:00:00', '2020-01-05 01:00:00',\n",
       "               '2020-01-05 02:00:00', '2020-01-05 03:00:00',\n",
       "               '2020-01-05 04:00:00', '2020-01-05 05:00:00',\n",
       "               '2020-01-05 06:00:00', '2020-01-05 07:00:00',\n",
       "               '2020-01-05 08:00:00', '2020-01-05 09:00:00'],\n",
       "              dtype='datetime64[ns]', length=1053, freq=None)"
      ]
     },
     "execution_count": 3,
     "metadata": {},
     "output_type": "execute_result"
    }
   ],
   "source": [
    "df_global.index"
   ]
  },
  {
   "cell_type": "markdown",
   "metadata": {},
   "source": [
    "# Test 1: Compare Hourly mean for all of Berlin at a specific Hour\n",
    "First, define statistical Variables\n",
    "Be careful with BLUME Dates: When you ask for 14:00, it means you receive the mean from 13:00-14:00."
   ]
  },
  {
   "cell_type": "code",
   "execution_count": 4,
   "metadata": {},
   "outputs": [],
   "source": [
    "#SenseMapi related\n",
    "example_to_date = datetime(2019, 11, 30, 12, 00, 00, 000)\n",
    "example_from_date = example_to_date - timedelta(hours=1)\n",
    "bbox_berlin = [13.0883, 52.3383, 13.7612, 52.6755]\n",
    "#BLUME related\n",
    "example_date = pd.Timestamp(example_from_date)\n",
    "example_mean = df_global.loc[example_date]"
   ]
  },
  {
   "cell_type": "markdown",
   "metadata": {
    "pycharm": {
     "name": "#%%\n"
    }
   },
   "source": [
    "## Load all PM10 Values from Berlin (OSeM) into DataFrame\n",
    "- Create Request according to Statistical Parameters\n",
    "- From all Sensors, Flatten the \n",
    "- Convert everything to Pandas Dataframe"
   ]
  },
  {
   "cell_type": "code",
   "execution_count": 5,
   "metadata": {},
   "outputs": [],
   "source": [
    "senseMapiresponse = sense_client.SenseMapClient().get_measurements_by_phenomenon(\n",
    "    bbox=bbox_berlin,\n",
    "    phenomenon=\"PM10\",\n",
    "    from_date=example_from_date,\n",
    "    to_date=example_to_date)\n",
    "\n",
    "# Load all PM10 Values from Berlin (OSeM) into DataFrame\n",
    "sensor_vals_df = [i.series for i in senseMapiresponse]\n",
    "final_df = pd.concat(sensor_vals_df, axis=1)"
   ]
  },
  {
   "cell_type": "code",
   "execution_count": 6,
   "metadata": {
    "scrolled": true
   },
   "outputs": [
    {
     "data": {
      "text/html": [
       "<div>\n",
       "<style scoped>\n",
       "    .dataframe tbody tr th:only-of-type {\n",
       "        vertical-align: middle;\n",
       "    }\n",
       "\n",
       "    .dataframe tbody tr th {\n",
       "        vertical-align: top;\n",
       "    }\n",
       "\n",
       "    .dataframe thead th {\n",
       "        text-align: right;\n",
       "    }\n",
       "</style>\n",
       "<table border=\"1\" class=\"dataframe\">\n",
       "  <thead>\n",
       "    <tr style=\"text-align: right;\">\n",
       "      <th></th>\n",
       "      <th>590b8480dd09cc0011aa79cd_PM10</th>\n",
       "      <th>591ecdc251d3460011651ffa_PM10</th>\n",
       "      <th>592ca4b851d3460011ea2636_PM10</th>\n",
       "      <th>593458ddad0fa30011ea0962_PM10</th>\n",
       "      <th>5936c52aad0fa30011033d68_PM10</th>\n",
       "      <th>594c01c7be77820011792181_PM10</th>\n",
       "      <th>5984c712e3b1fa001069150d_PM10</th>\n",
       "      <th>5998a7bad67eb500114b7d7b_PM10</th>\n",
       "      <th>599f3364d67eb50011b85cd4_PM10</th>\n",
       "      <th>59b9030bd67eb500117a3ff2_PM10</th>\n",
       "      <th>...</th>\n",
       "      <th>5d78d78f953683001a412c22_PM10</th>\n",
       "      <th>5d8a549d5f3de0001a7c3509_PM10</th>\n",
       "      <th>5d9ef41e25683a001ad916c7_PM10</th>\n",
       "      <th>5d9f216425683a001ae684cf_PM10</th>\n",
       "      <th>5da0a27f25683a001a59271d_PM10</th>\n",
       "      <th>5da202ac25683a001ac232e9_PM10</th>\n",
       "      <th>5dbf1a8ca68df4001adead33_PM10</th>\n",
       "      <th>5dc5d2d37d4ff7001ac78624_PM10</th>\n",
       "      <th>5dcbe2d1306947001a2c353f_PM10</th>\n",
       "      <th>5dd810224ec04e001a2212a3_PM10</th>\n",
       "    </tr>\n",
       "  </thead>\n",
       "  <tbody>\n",
       "    <tr>\n",
       "      <th>count</th>\n",
       "      <td>23.000000</td>\n",
       "      <td>24.000000</td>\n",
       "      <td>23.000000</td>\n",
       "      <td>23.000000</td>\n",
       "      <td>12.000000</td>\n",
       "      <td>23.000000</td>\n",
       "      <td>24.000000</td>\n",
       "      <td>24.000000</td>\n",
       "      <td>57.000000</td>\n",
       "      <td>23.000000</td>\n",
       "      <td>...</td>\n",
       "      <td>10.000000</td>\n",
       "      <td>23.000000</td>\n",
       "      <td>24.000000</td>\n",
       "      <td>53.000000</td>\n",
       "      <td>4.000000</td>\n",
       "      <td>11.000000</td>\n",
       "      <td>23.000000</td>\n",
       "      <td>24.000000</td>\n",
       "      <td>23.000000</td>\n",
       "      <td>21.000000</td>\n",
       "    </tr>\n",
       "    <tr>\n",
       "      <th>mean</th>\n",
       "      <td>19.437391</td>\n",
       "      <td>23.472083</td>\n",
       "      <td>1.813478</td>\n",
       "      <td>5.350000</td>\n",
       "      <td>10.738333</td>\n",
       "      <td>9.293478</td>\n",
       "      <td>24.571667</td>\n",
       "      <td>14.976667</td>\n",
       "      <td>30.254211</td>\n",
       "      <td>7.297826</td>\n",
       "      <td>...</td>\n",
       "      <td>14.379000</td>\n",
       "      <td>24.690435</td>\n",
       "      <td>22.725833</td>\n",
       "      <td>15.424151</td>\n",
       "      <td>23.550000</td>\n",
       "      <td>15.749091</td>\n",
       "      <td>10.267826</td>\n",
       "      <td>17.506667</td>\n",
       "      <td>19.283043</td>\n",
       "      <td>19.263333</td>\n",
       "    </tr>\n",
       "    <tr>\n",
       "      <th>std</th>\n",
       "      <td>16.044018</td>\n",
       "      <td>4.572607</td>\n",
       "      <td>0.649941</td>\n",
       "      <td>1.687039</td>\n",
       "      <td>1.561921</td>\n",
       "      <td>2.659926</td>\n",
       "      <td>6.969347</td>\n",
       "      <td>3.024002</td>\n",
       "      <td>25.608425</td>\n",
       "      <td>0.433579</td>\n",
       "      <td>...</td>\n",
       "      <td>5.985582</td>\n",
       "      <td>6.199901</td>\n",
       "      <td>3.547336</td>\n",
       "      <td>2.367984</td>\n",
       "      <td>2.937686</td>\n",
       "      <td>4.508269</td>\n",
       "      <td>2.135435</td>\n",
       "      <td>3.406627</td>\n",
       "      <td>3.037295</td>\n",
       "      <td>2.579177</td>\n",
       "    </tr>\n",
       "    <tr>\n",
       "      <th>min</th>\n",
       "      <td>10.130000</td>\n",
       "      <td>14.900000</td>\n",
       "      <td>1.230000</td>\n",
       "      <td>3.970000</td>\n",
       "      <td>8.730000</td>\n",
       "      <td>5.230000</td>\n",
       "      <td>14.270000</td>\n",
       "      <td>10.270000</td>\n",
       "      <td>17.150000</td>\n",
       "      <td>6.730000</td>\n",
       "      <td>...</td>\n",
       "      <td>8.370000</td>\n",
       "      <td>16.370000</td>\n",
       "      <td>18.170000</td>\n",
       "      <td>10.800000</td>\n",
       "      <td>20.600000</td>\n",
       "      <td>8.900000</td>\n",
       "      <td>6.450000</td>\n",
       "      <td>11.100000</td>\n",
       "      <td>13.850000</td>\n",
       "      <td>14.150000</td>\n",
       "    </tr>\n",
       "    <tr>\n",
       "      <th>25%</th>\n",
       "      <td>13.750000</td>\n",
       "      <td>21.055000</td>\n",
       "      <td>1.350000</td>\n",
       "      <td>4.270000</td>\n",
       "      <td>9.777500</td>\n",
       "      <td>7.880000</td>\n",
       "      <td>20.342500</td>\n",
       "      <td>12.602500</td>\n",
       "      <td>23.420000</td>\n",
       "      <td>7.015000</td>\n",
       "      <td>...</td>\n",
       "      <td>10.862500</td>\n",
       "      <td>19.920000</td>\n",
       "      <td>20.517500</td>\n",
       "      <td>13.630000</td>\n",
       "      <td>22.175001</td>\n",
       "      <td>13.185000</td>\n",
       "      <td>9.090000</td>\n",
       "      <td>15.422500</td>\n",
       "      <td>17.600000</td>\n",
       "      <td>17.330000</td>\n",
       "    </tr>\n",
       "    <tr>\n",
       "      <th>50%</th>\n",
       "      <td>16.020000</td>\n",
       "      <td>23.950000</td>\n",
       "      <td>1.500000</td>\n",
       "      <td>4.700000</td>\n",
       "      <td>10.085000</td>\n",
       "      <td>8.630000</td>\n",
       "      <td>23.100000</td>\n",
       "      <td>14.415000</td>\n",
       "      <td>26.200000</td>\n",
       "      <td>7.100000</td>\n",
       "      <td>...</td>\n",
       "      <td>13.515000</td>\n",
       "      <td>23.870000</td>\n",
       "      <td>22.150000</td>\n",
       "      <td>15.800000</td>\n",
       "      <td>23.000000</td>\n",
       "      <td>13.930000</td>\n",
       "      <td>9.650000</td>\n",
       "      <td>17.520000</td>\n",
       "      <td>18.980000</td>\n",
       "      <td>19.730000</td>\n",
       "    </tr>\n",
       "    <tr>\n",
       "      <th>75%</th>\n",
       "      <td>18.625000</td>\n",
       "      <td>26.772500</td>\n",
       "      <td>2.070000</td>\n",
       "      <td>5.885000</td>\n",
       "      <td>12.297500</td>\n",
       "      <td>9.765000</td>\n",
       "      <td>28.335000</td>\n",
       "      <td>16.740000</td>\n",
       "      <td>29.230000</td>\n",
       "      <td>7.450000</td>\n",
       "      <td>...</td>\n",
       "      <td>15.755000</td>\n",
       "      <td>27.025000</td>\n",
       "      <td>23.417500</td>\n",
       "      <td>17.120000</td>\n",
       "      <td>24.374999</td>\n",
       "      <td>19.435000</td>\n",
       "      <td>11.660000</td>\n",
       "      <td>19.702500</td>\n",
       "      <td>21.025000</td>\n",
       "      <td>20.750000</td>\n",
       "    </tr>\n",
       "    <tr>\n",
       "      <th>max</th>\n",
       "      <td>91.350000</td>\n",
       "      <td>31.430000</td>\n",
       "      <td>3.630000</td>\n",
       "      <td>11.430000</td>\n",
       "      <td>12.930000</td>\n",
       "      <td>16.300000</td>\n",
       "      <td>45.600000</td>\n",
       "      <td>21.300000</td>\n",
       "      <td>214.400000</td>\n",
       "      <td>8.570000</td>\n",
       "      <td>...</td>\n",
       "      <td>29.100000</td>\n",
       "      <td>40.450000</td>\n",
       "      <td>30.800000</td>\n",
       "      <td>20.730000</td>\n",
       "      <td>27.600000</td>\n",
       "      <td>23.470000</td>\n",
       "      <td>14.650000</td>\n",
       "      <td>24.200000</td>\n",
       "      <td>25.980000</td>\n",
       "      <td>23.700000</td>\n",
       "    </tr>\n",
       "  </tbody>\n",
       "</table>\n",
       "<p>8 rows × 91 columns</p>\n",
       "</div>"
      ],
      "text/plain": [
       "       590b8480dd09cc0011aa79cd_PM10  591ecdc251d3460011651ffa_PM10  \\\n",
       "count                      23.000000                      24.000000   \n",
       "mean                       19.437391                      23.472083   \n",
       "std                        16.044018                       4.572607   \n",
       "min                        10.130000                      14.900000   \n",
       "25%                        13.750000                      21.055000   \n",
       "50%                        16.020000                      23.950000   \n",
       "75%                        18.625000                      26.772500   \n",
       "max                        91.350000                      31.430000   \n",
       "\n",
       "       592ca4b851d3460011ea2636_PM10  593458ddad0fa30011ea0962_PM10  \\\n",
       "count                      23.000000                      23.000000   \n",
       "mean                        1.813478                       5.350000   \n",
       "std                         0.649941                       1.687039   \n",
       "min                         1.230000                       3.970000   \n",
       "25%                         1.350000                       4.270000   \n",
       "50%                         1.500000                       4.700000   \n",
       "75%                         2.070000                       5.885000   \n",
       "max                         3.630000                      11.430000   \n",
       "\n",
       "       5936c52aad0fa30011033d68_PM10  594c01c7be77820011792181_PM10  \\\n",
       "count                      12.000000                      23.000000   \n",
       "mean                       10.738333                       9.293478   \n",
       "std                         1.561921                       2.659926   \n",
       "min                         8.730000                       5.230000   \n",
       "25%                         9.777500                       7.880000   \n",
       "50%                        10.085000                       8.630000   \n",
       "75%                        12.297500                       9.765000   \n",
       "max                        12.930000                      16.300000   \n",
       "\n",
       "       5984c712e3b1fa001069150d_PM10  5998a7bad67eb500114b7d7b_PM10  \\\n",
       "count                      24.000000                      24.000000   \n",
       "mean                       24.571667                      14.976667   \n",
       "std                         6.969347                       3.024002   \n",
       "min                        14.270000                      10.270000   \n",
       "25%                        20.342500                      12.602500   \n",
       "50%                        23.100000                      14.415000   \n",
       "75%                        28.335000                      16.740000   \n",
       "max                        45.600000                      21.300000   \n",
       "\n",
       "       599f3364d67eb50011b85cd4_PM10  59b9030bd67eb500117a3ff2_PM10  ...  \\\n",
       "count                      57.000000                      23.000000  ...   \n",
       "mean                       30.254211                       7.297826  ...   \n",
       "std                        25.608425                       0.433579  ...   \n",
       "min                        17.150000                       6.730000  ...   \n",
       "25%                        23.420000                       7.015000  ...   \n",
       "50%                        26.200000                       7.100000  ...   \n",
       "75%                        29.230000                       7.450000  ...   \n",
       "max                       214.400000                       8.570000  ...   \n",
       "\n",
       "       5d78d78f953683001a412c22_PM10  5d8a549d5f3de0001a7c3509_PM10  \\\n",
       "count                      10.000000                      23.000000   \n",
       "mean                       14.379000                      24.690435   \n",
       "std                         5.985582                       6.199901   \n",
       "min                         8.370000                      16.370000   \n",
       "25%                        10.862500                      19.920000   \n",
       "50%                        13.515000                      23.870000   \n",
       "75%                        15.755000                      27.025000   \n",
       "max                        29.100000                      40.450000   \n",
       "\n",
       "       5d9ef41e25683a001ad916c7_PM10  5d9f216425683a001ae684cf_PM10  \\\n",
       "count                      24.000000                      53.000000   \n",
       "mean                       22.725833                      15.424151   \n",
       "std                         3.547336                       2.367984   \n",
       "min                        18.170000                      10.800000   \n",
       "25%                        20.517500                      13.630000   \n",
       "50%                        22.150000                      15.800000   \n",
       "75%                        23.417500                      17.120000   \n",
       "max                        30.800000                      20.730000   \n",
       "\n",
       "       5da0a27f25683a001a59271d_PM10  5da202ac25683a001ac232e9_PM10  \\\n",
       "count                       4.000000                      11.000000   \n",
       "mean                       23.550000                      15.749091   \n",
       "std                         2.937686                       4.508269   \n",
       "min                        20.600000                       8.900000   \n",
       "25%                        22.175001                      13.185000   \n",
       "50%                        23.000000                      13.930000   \n",
       "75%                        24.374999                      19.435000   \n",
       "max                        27.600000                      23.470000   \n",
       "\n",
       "       5dbf1a8ca68df4001adead33_PM10  5dc5d2d37d4ff7001ac78624_PM10  \\\n",
       "count                      23.000000                      24.000000   \n",
       "mean                       10.267826                      17.506667   \n",
       "std                         2.135435                       3.406627   \n",
       "min                         6.450000                      11.100000   \n",
       "25%                         9.090000                      15.422500   \n",
       "50%                         9.650000                      17.520000   \n",
       "75%                        11.660000                      19.702500   \n",
       "max                        14.650000                      24.200000   \n",
       "\n",
       "       5dcbe2d1306947001a2c353f_PM10  5dd810224ec04e001a2212a3_PM10  \n",
       "count                      23.000000                      21.000000  \n",
       "mean                       19.283043                      19.263333  \n",
       "std                         3.037295                       2.579177  \n",
       "min                        13.850000                      14.150000  \n",
       "25%                        17.600000                      17.330000  \n",
       "50%                        18.980000                      19.730000  \n",
       "75%                        21.025000                      20.750000  \n",
       "max                        25.980000                      23.700000  \n",
       "\n",
       "[8 rows x 91 columns]"
      ]
     },
     "execution_count": 6,
     "metadata": {},
     "output_type": "execute_result"
    }
   ],
   "source": [
    "final_df.describe()"
   ]
  },
  {
   "cell_type": "markdown",
   "metadata": {},
   "source": [
    "## Results"
   ]
  },
  {
   "cell_type": "code",
   "execution_count": 7,
   "metadata": {},
   "outputs": [
    {
     "name": "stdout",
     "output_type": "stream",
     "text": [
      "Gesamt Berliner Feinstaubmittelwert am 30.11.2019 von 10 bis 11 Uhr\n",
      "Umweltbundesamt\t= 20.583333333333332\n",
      "OpenSenseMap\t= 13.172582795539995\n"
     ]
    }
   ],
   "source": [
    "print(\"Gesamt Berliner Feinstaubmittelwert am {} von {} bis {} Uhr\"\n",
    "    .format(\n",
    "    example_date.strftime('%d.%m.%Y'),\n",
    "    (example_date - timedelta(hours=1)).strftime('%H'),\n",
    "    example_date.strftime('%H')\n",
    "    )\n",
    ")\n",
    "print(\"Umweltbundesamt\\t= {}\"\n",
    "    .format(example_mean.mean())\n",
    ")\n",
    "print(\"OpenSenseMap\\t= {}\"\n",
    "    .format(final_df.mean().mean())\n",
    ")"
   ]
  },
  {
   "cell_type": "markdown",
   "metadata": {},
   "source": [
    "# Test 2: Compare Hourly mean for all of Berlin for 24 Hours\n",
    "Same as Test 1, but now for the whole day, to see if there is a time where the relation is good / bad"
   ]
  },
  {
   "cell_type": "code",
   "execution_count": 8,
   "metadata": {},
   "outputs": [],
   "source": [
    "#SenseMapi related\n",
    "example_to_date = datetime(2019, 12, 12, 00, 00, 00, 000)\n",
    "example_from_date = example_to_date - timedelta(hours=24)\n",
    "#BLUME related: Careful adjuste the dates! BLUME publishes the hourly mean for 13:00 - 14:00 as 14:00\n",
    "blume_start_date = pd.Timestamp(example_from_date)\n",
    "blume_end_date = pd.Timestamp(example_to_date - timedelta(hours=1))"
   ]
  },
  {
   "cell_type": "markdown",
   "metadata": {},
   "source": [
    "# Load from BLUME and create DataFrame\n",
    "- Load the Data for the specified 24h\n",
    "- Create Dataframe with the mean of every hour"
   ]
  },
  {
   "cell_type": "code",
   "execution_count": 9,
   "metadata": {},
   "outputs": [
    {
     "data": {
      "text/html": [
       "<div>\n",
       "<style scoped>\n",
       "    .dataframe tbody tr th:only-of-type {\n",
       "        vertical-align: middle;\n",
       "    }\n",
       "\n",
       "    .dataframe tbody tr th {\n",
       "        vertical-align: top;\n",
       "    }\n",
       "\n",
       "    .dataframe thead th {\n",
       "        text-align: right;\n",
       "    }\n",
       "</style>\n",
       "<table border=\"1\" class=\"dataframe\">\n",
       "  <thead>\n",
       "    <tr style=\"text-align: right;\">\n",
       "      <th></th>\n",
       "      <th>10</th>\n",
       "      <th>32</th>\n",
       "      <th>42</th>\n",
       "      <th>77</th>\n",
       "      <th>85</th>\n",
       "      <th>88</th>\n",
       "      <th>117</th>\n",
       "      <th>124</th>\n",
       "      <th>143</th>\n",
       "      <th>171</th>\n",
       "      <th>174</th>\n",
       "      <th>220</th>\n",
       "    </tr>\n",
       "  </thead>\n",
       "  <tbody>\n",
       "    <tr>\n",
       "      <th>2019-12-11 00:00:00</th>\n",
       "      <td>19</td>\n",
       "      <td>14.0</td>\n",
       "      <td>17</td>\n",
       "      <td>19</td>\n",
       "      <td>13</td>\n",
       "      <td>17</td>\n",
       "      <td>19.0</td>\n",
       "      <td>18</td>\n",
       "      <td>21</td>\n",
       "      <td>19</td>\n",
       "      <td>24.0</td>\n",
       "      <td>17</td>\n",
       "    </tr>\n",
       "    <tr>\n",
       "      <th>2019-12-11 01:00:00</th>\n",
       "      <td>17</td>\n",
       "      <td>14.0</td>\n",
       "      <td>15</td>\n",
       "      <td>19</td>\n",
       "      <td>13</td>\n",
       "      <td>17</td>\n",
       "      <td>18.0</td>\n",
       "      <td>17</td>\n",
       "      <td>20</td>\n",
       "      <td>18</td>\n",
       "      <td>23.0</td>\n",
       "      <td>16</td>\n",
       "    </tr>\n",
       "    <tr>\n",
       "      <th>2019-12-11 02:00:00</th>\n",
       "      <td>16</td>\n",
       "      <td>14.0</td>\n",
       "      <td>15</td>\n",
       "      <td>18</td>\n",
       "      <td>12</td>\n",
       "      <td>17</td>\n",
       "      <td>18.0</td>\n",
       "      <td>15</td>\n",
       "      <td>18</td>\n",
       "      <td>18</td>\n",
       "      <td>22.0</td>\n",
       "      <td>15</td>\n",
       "    </tr>\n",
       "    <tr>\n",
       "      <th>2019-12-11 03:00:00</th>\n",
       "      <td>15</td>\n",
       "      <td>13.0</td>\n",
       "      <td>13</td>\n",
       "      <td>16</td>\n",
       "      <td>11</td>\n",
       "      <td>15</td>\n",
       "      <td>16.0</td>\n",
       "      <td>14</td>\n",
       "      <td>17</td>\n",
       "      <td>16</td>\n",
       "      <td>19.0</td>\n",
       "      <td>14</td>\n",
       "    </tr>\n",
       "    <tr>\n",
       "      <th>2019-12-11 04:00:00</th>\n",
       "      <td>12</td>\n",
       "      <td>12.0</td>\n",
       "      <td>11</td>\n",
       "      <td>14</td>\n",
       "      <td>9</td>\n",
       "      <td>13</td>\n",
       "      <td>14.0</td>\n",
       "      <td>13</td>\n",
       "      <td>15</td>\n",
       "      <td>14</td>\n",
       "      <td>16.0</td>\n",
       "      <td>12</td>\n",
       "    </tr>\n",
       "    <tr>\n",
       "      <th>2019-12-11 05:00:00</th>\n",
       "      <td>11</td>\n",
       "      <td>10.0</td>\n",
       "      <td>10</td>\n",
       "      <td>13</td>\n",
       "      <td>7</td>\n",
       "      <td>12</td>\n",
       "      <td>12.0</td>\n",
       "      <td>12</td>\n",
       "      <td>14</td>\n",
       "      <td>12</td>\n",
       "      <td>15.0</td>\n",
       "      <td>11</td>\n",
       "    </tr>\n",
       "    <tr>\n",
       "      <th>2019-12-11 06:00:00</th>\n",
       "      <td>10</td>\n",
       "      <td>10.0</td>\n",
       "      <td>9</td>\n",
       "      <td>13</td>\n",
       "      <td>8</td>\n",
       "      <td>14</td>\n",
       "      <td>12.0</td>\n",
       "      <td>14</td>\n",
       "      <td>14</td>\n",
       "      <td>11</td>\n",
       "      <td>15.0</td>\n",
       "      <td>11</td>\n",
       "    </tr>\n",
       "    <tr>\n",
       "      <th>2019-12-11 07:00:00</th>\n",
       "      <td>11</td>\n",
       "      <td>9.0</td>\n",
       "      <td>10</td>\n",
       "      <td>13</td>\n",
       "      <td>9</td>\n",
       "      <td>18</td>\n",
       "      <td>14.0</td>\n",
       "      <td>18</td>\n",
       "      <td>20</td>\n",
       "      <td>11</td>\n",
       "      <td>17.0</td>\n",
       "      <td>13</td>\n",
       "    </tr>\n",
       "    <tr>\n",
       "      <th>2019-12-11 08:00:00</th>\n",
       "      <td>12</td>\n",
       "      <td>9.0</td>\n",
       "      <td>11</td>\n",
       "      <td>14</td>\n",
       "      <td>9</td>\n",
       "      <td>16</td>\n",
       "      <td>16.0</td>\n",
       "      <td>18</td>\n",
       "      <td>26</td>\n",
       "      <td>12</td>\n",
       "      <td>20.0</td>\n",
       "      <td>14</td>\n",
       "    </tr>\n",
       "    <tr>\n",
       "      <th>2019-12-11 09:00:00</th>\n",
       "      <td>14</td>\n",
       "      <td>10.0</td>\n",
       "      <td>12</td>\n",
       "      <td>16</td>\n",
       "      <td>10</td>\n",
       "      <td>18</td>\n",
       "      <td>17.0</td>\n",
       "      <td>20</td>\n",
       "      <td>23</td>\n",
       "      <td>15</td>\n",
       "      <td>30.0</td>\n",
       "      <td>29</td>\n",
       "    </tr>\n",
       "    <tr>\n",
       "      <th>2019-12-11 10:00:00</th>\n",
       "      <td>14</td>\n",
       "      <td>10.0</td>\n",
       "      <td>13</td>\n",
       "      <td>18</td>\n",
       "      <td>9</td>\n",
       "      <td>18</td>\n",
       "      <td>18.0</td>\n",
       "      <td>21</td>\n",
       "      <td>25</td>\n",
       "      <td>14</td>\n",
       "      <td>29.0</td>\n",
       "      <td>20</td>\n",
       "    </tr>\n",
       "    <tr>\n",
       "      <th>2019-12-11 11:00:00</th>\n",
       "      <td>13</td>\n",
       "      <td>10.0</td>\n",
       "      <td>17</td>\n",
       "      <td>17</td>\n",
       "      <td>10</td>\n",
       "      <td>19</td>\n",
       "      <td>18.0</td>\n",
       "      <td>24</td>\n",
       "      <td>31</td>\n",
       "      <td>16</td>\n",
       "      <td>27.0</td>\n",
       "      <td>27</td>\n",
       "    </tr>\n",
       "    <tr>\n",
       "      <th>2019-12-11 12:00:00</th>\n",
       "      <td>13</td>\n",
       "      <td>10.0</td>\n",
       "      <td>17</td>\n",
       "      <td>16</td>\n",
       "      <td>10</td>\n",
       "      <td>18</td>\n",
       "      <td>19.0</td>\n",
       "      <td>22</td>\n",
       "      <td>26</td>\n",
       "      <td>17</td>\n",
       "      <td>31.0</td>\n",
       "      <td>21</td>\n",
       "    </tr>\n",
       "    <tr>\n",
       "      <th>2019-12-11 13:00:00</th>\n",
       "      <td>15</td>\n",
       "      <td>10.0</td>\n",
       "      <td>19</td>\n",
       "      <td>14</td>\n",
       "      <td>11</td>\n",
       "      <td>19</td>\n",
       "      <td>23.0</td>\n",
       "      <td>19</td>\n",
       "      <td>27</td>\n",
       "      <td>17</td>\n",
       "      <td>29.0</td>\n",
       "      <td>25</td>\n",
       "    </tr>\n",
       "    <tr>\n",
       "      <th>2019-12-11 14:00:00</th>\n",
       "      <td>16</td>\n",
       "      <td>11.0</td>\n",
       "      <td>19</td>\n",
       "      <td>15</td>\n",
       "      <td>11</td>\n",
       "      <td>19</td>\n",
       "      <td>18.0</td>\n",
       "      <td>25</td>\n",
       "      <td>30</td>\n",
       "      <td>17</td>\n",
       "      <td>43.0</td>\n",
       "      <td>24</td>\n",
       "    </tr>\n",
       "    <tr>\n",
       "      <th>2019-12-11 15:00:00</th>\n",
       "      <td>16</td>\n",
       "      <td>11.0</td>\n",
       "      <td>18</td>\n",
       "      <td>16</td>\n",
       "      <td>11</td>\n",
       "      <td>20</td>\n",
       "      <td>20.0</td>\n",
       "      <td>23</td>\n",
       "      <td>27</td>\n",
       "      <td>20</td>\n",
       "      <td>415.0</td>\n",
       "      <td>22</td>\n",
       "    </tr>\n",
       "    <tr>\n",
       "      <th>2019-12-11 16:00:00</th>\n",
       "      <td>14</td>\n",
       "      <td>12.0</td>\n",
       "      <td>18</td>\n",
       "      <td>17</td>\n",
       "      <td>11</td>\n",
       "      <td>20</td>\n",
       "      <td>21.0</td>\n",
       "      <td>23</td>\n",
       "      <td>31</td>\n",
       "      <td>19</td>\n",
       "      <td>1102.0</td>\n",
       "      <td>23</td>\n",
       "    </tr>\n",
       "    <tr>\n",
       "      <th>2019-12-11 17:00:00</th>\n",
       "      <td>16</td>\n",
       "      <td>13.0</td>\n",
       "      <td>18</td>\n",
       "      <td>21</td>\n",
       "      <td>11</td>\n",
       "      <td>23</td>\n",
       "      <td>21.0</td>\n",
       "      <td>23</td>\n",
       "      <td>34</td>\n",
       "      <td>19</td>\n",
       "      <td>36.0</td>\n",
       "      <td>27</td>\n",
       "    </tr>\n",
       "    <tr>\n",
       "      <th>2019-12-11 18:00:00</th>\n",
       "      <td>17</td>\n",
       "      <td>12.0</td>\n",
       "      <td>19</td>\n",
       "      <td>22</td>\n",
       "      <td>11</td>\n",
       "      <td>24</td>\n",
       "      <td>19.0</td>\n",
       "      <td>23</td>\n",
       "      <td>30</td>\n",
       "      <td>20</td>\n",
       "      <td>29.0</td>\n",
       "      <td>25</td>\n",
       "    </tr>\n",
       "    <tr>\n",
       "      <th>2019-12-11 19:00:00</th>\n",
       "      <td>16</td>\n",
       "      <td>13.0</td>\n",
       "      <td>16</td>\n",
       "      <td>19</td>\n",
       "      <td>12</td>\n",
       "      <td>22</td>\n",
       "      <td>22.0</td>\n",
       "      <td>18</td>\n",
       "      <td>26</td>\n",
       "      <td>18</td>\n",
       "      <td>25.0</td>\n",
       "      <td>25</td>\n",
       "    </tr>\n",
       "    <tr>\n",
       "      <th>2019-12-11 20:00:00</th>\n",
       "      <td>16</td>\n",
       "      <td>15.0</td>\n",
       "      <td>16</td>\n",
       "      <td>17</td>\n",
       "      <td>13</td>\n",
       "      <td>21</td>\n",
       "      <td>22.0</td>\n",
       "      <td>18</td>\n",
       "      <td>25</td>\n",
       "      <td>19</td>\n",
       "      <td>25.0</td>\n",
       "      <td>23</td>\n",
       "    </tr>\n",
       "    <tr>\n",
       "      <th>2019-12-11 21:00:00</th>\n",
       "      <td>18</td>\n",
       "      <td>15.0</td>\n",
       "      <td>16</td>\n",
       "      <td>18</td>\n",
       "      <td>12</td>\n",
       "      <td>20</td>\n",
       "      <td>21.0</td>\n",
       "      <td>19</td>\n",
       "      <td>24</td>\n",
       "      <td>19</td>\n",
       "      <td>24.0</td>\n",
       "      <td>21</td>\n",
       "    </tr>\n",
       "    <tr>\n",
       "      <th>2019-12-11 22:00:00</th>\n",
       "      <td>19</td>\n",
       "      <td>14.0</td>\n",
       "      <td>16</td>\n",
       "      <td>19</td>\n",
       "      <td>13</td>\n",
       "      <td>20</td>\n",
       "      <td>21.0</td>\n",
       "      <td>20</td>\n",
       "      <td>24</td>\n",
       "      <td>18</td>\n",
       "      <td>22.0</td>\n",
       "      <td>19</td>\n",
       "    </tr>\n",
       "    <tr>\n",
       "      <th>2019-12-11 23:00:00</th>\n",
       "      <td>19</td>\n",
       "      <td>14.0</td>\n",
       "      <td>19</td>\n",
       "      <td>18</td>\n",
       "      <td>15</td>\n",
       "      <td>22</td>\n",
       "      <td>20.0</td>\n",
       "      <td>22</td>\n",
       "      <td>23</td>\n",
       "      <td>20</td>\n",
       "      <td>23.0</td>\n",
       "      <td>20</td>\n",
       "    </tr>\n",
       "  </tbody>\n",
       "</table>\n",
       "</div>"
      ],
      "text/plain": [
       "                     10    32   42   77   85   88    117  124  143  171  \\\n",
       "2019-12-11 00:00:00   19  14.0   17   19   13   17  19.0   18   21   19   \n",
       "2019-12-11 01:00:00   17  14.0   15   19   13   17  18.0   17   20   18   \n",
       "2019-12-11 02:00:00   16  14.0   15   18   12   17  18.0   15   18   18   \n",
       "2019-12-11 03:00:00   15  13.0   13   16   11   15  16.0   14   17   16   \n",
       "2019-12-11 04:00:00   12  12.0   11   14    9   13  14.0   13   15   14   \n",
       "2019-12-11 05:00:00   11  10.0   10   13    7   12  12.0   12   14   12   \n",
       "2019-12-11 06:00:00   10  10.0    9   13    8   14  12.0   14   14   11   \n",
       "2019-12-11 07:00:00   11   9.0   10   13    9   18  14.0   18   20   11   \n",
       "2019-12-11 08:00:00   12   9.0   11   14    9   16  16.0   18   26   12   \n",
       "2019-12-11 09:00:00   14  10.0   12   16   10   18  17.0   20   23   15   \n",
       "2019-12-11 10:00:00   14  10.0   13   18    9   18  18.0   21   25   14   \n",
       "2019-12-11 11:00:00   13  10.0   17   17   10   19  18.0   24   31   16   \n",
       "2019-12-11 12:00:00   13  10.0   17   16   10   18  19.0   22   26   17   \n",
       "2019-12-11 13:00:00   15  10.0   19   14   11   19  23.0   19   27   17   \n",
       "2019-12-11 14:00:00   16  11.0   19   15   11   19  18.0   25   30   17   \n",
       "2019-12-11 15:00:00   16  11.0   18   16   11   20  20.0   23   27   20   \n",
       "2019-12-11 16:00:00   14  12.0   18   17   11   20  21.0   23   31   19   \n",
       "2019-12-11 17:00:00   16  13.0   18   21   11   23  21.0   23   34   19   \n",
       "2019-12-11 18:00:00   17  12.0   19   22   11   24  19.0   23   30   20   \n",
       "2019-12-11 19:00:00   16  13.0   16   19   12   22  22.0   18   26   18   \n",
       "2019-12-11 20:00:00   16  15.0   16   17   13   21  22.0   18   25   19   \n",
       "2019-12-11 21:00:00   18  15.0   16   18   12   20  21.0   19   24   19   \n",
       "2019-12-11 22:00:00   19  14.0   16   19   13   20  21.0   20   24   18   \n",
       "2019-12-11 23:00:00   19  14.0   19   18   15   22  20.0   22   23   20   \n",
       "\n",
       "                        174  220  \n",
       "2019-12-11 00:00:00    24.0   17  \n",
       "2019-12-11 01:00:00    23.0   16  \n",
       "2019-12-11 02:00:00    22.0   15  \n",
       "2019-12-11 03:00:00    19.0   14  \n",
       "2019-12-11 04:00:00    16.0   12  \n",
       "2019-12-11 05:00:00    15.0   11  \n",
       "2019-12-11 06:00:00    15.0   11  \n",
       "2019-12-11 07:00:00    17.0   13  \n",
       "2019-12-11 08:00:00    20.0   14  \n",
       "2019-12-11 09:00:00    30.0   29  \n",
       "2019-12-11 10:00:00    29.0   20  \n",
       "2019-12-11 11:00:00    27.0   27  \n",
       "2019-12-11 12:00:00    31.0   21  \n",
       "2019-12-11 13:00:00    29.0   25  \n",
       "2019-12-11 14:00:00    43.0   24  \n",
       "2019-12-11 15:00:00   415.0   22  \n",
       "2019-12-11 16:00:00  1102.0   23  \n",
       "2019-12-11 17:00:00    36.0   27  \n",
       "2019-12-11 18:00:00    29.0   25  \n",
       "2019-12-11 19:00:00    25.0   25  \n",
       "2019-12-11 20:00:00    25.0   23  \n",
       "2019-12-11 21:00:00    24.0   21  \n",
       "2019-12-11 22:00:00    22.0   19  \n",
       "2019-12-11 23:00:00    23.0   20  "
      ]
     },
     "execution_count": 9,
     "metadata": {},
     "output_type": "execute_result"
    }
   ],
   "source": [
    "mask = (df_global.index >= blume_start_date) & (df_global.index <= blume_end_date)\n",
    "blume_hourly = df_global.loc[mask]\n",
    "blume_hourly"
   ]
  },
  {
   "cell_type": "markdown",
   "metadata": {
    "pycharm": {
     "name": "#%%\n"
    }
   },
   "source": [
    "## Load all PM10 Values from Berlin (OSeM) into DataFrame\n",
    "Same like above, but with much larger Dataset (Response Time might be longer)."
   ]
  },
  {
   "cell_type": "code",
   "execution_count": 10,
   "metadata": {},
   "outputs": [],
   "source": [
    "senseMapiresponse = sense_client.SenseMapClient().get_measurements_by_phenomenon(\n",
    "    bbox=bbox_berlin,\n",
    "    phenomenon=\"PM10\",\n",
    "    from_date=example_from_date,\n",
    "    to_date=example_to_date)\n",
    "\n",
    "# Load all PM10 Values from Berlin (OSeM) into DataFrame\n",
    "sensor_vals_df = [i.series for i in senseMapiresponse]\n",
    "final_df = pd.concat(sensor_vals_df, axis=1)"
   ]
  },
  {
   "cell_type": "markdown",
   "metadata": {},
   "source": [
    "Generate the Hourly-Mean for the given 24h interval of all Sensors in Berlin"
   ]
  },
  {
   "cell_type": "code",
   "execution_count": 11,
   "metadata": {
    "scrolled": false
   },
   "outputs": [
    {
     "data": {
      "text/html": [
       "<div>\n",
       "<style scoped>\n",
       "    .dataframe tbody tr th:only-of-type {\n",
       "        vertical-align: middle;\n",
       "    }\n",
       "\n",
       "    .dataframe tbody tr th {\n",
       "        vertical-align: top;\n",
       "    }\n",
       "\n",
       "    .dataframe thead th {\n",
       "        text-align: right;\n",
       "    }\n",
       "</style>\n",
       "<table border=\"1\" class=\"dataframe\">\n",
       "  <thead>\n",
       "    <tr style=\"text-align: right;\">\n",
       "      <th></th>\n",
       "      <th>591ecdc251d3460011651ffa_PM10</th>\n",
       "      <th>592ca4b851d3460011ea2636_PM10</th>\n",
       "      <th>593458ddad0fa30011ea0962_PM10</th>\n",
       "      <th>5936c52aad0fa30011033d68_PM10</th>\n",
       "      <th>594c01c7be77820011792181_PM10</th>\n",
       "      <th>595178fb94f0520011e083ed_PM10</th>\n",
       "      <th>5984c712e3b1fa001069150d_PM10</th>\n",
       "      <th>5998a7bad67eb500114b7d7b_PM10</th>\n",
       "      <th>599f3364d67eb50011b85cd4_PM10</th>\n",
       "      <th>59b9030bd67eb500117a3ff2_PM10</th>\n",
       "      <th>...</th>\n",
       "      <th>5d8a549d5f3de0001a7c3509_PM10</th>\n",
       "      <th>5d9ef41e25683a001ad916c7_PM10</th>\n",
       "      <th>5d9f216425683a001ae684cf_PM10</th>\n",
       "      <th>5da0a27f25683a001a59271d_PM10</th>\n",
       "      <th>5da202ac25683a001ac232e9_PM10</th>\n",
       "      <th>5dbf1a8ca68df4001adead33_PM10</th>\n",
       "      <th>5dc5d2d37d4ff7001ac78624_PM10</th>\n",
       "      <th>5dcbe2d1306947001a2c353f_PM10</th>\n",
       "      <th>5dd810224ec04e001a2212a3_PM10</th>\n",
       "      <th>5ded15e22b3516001a35dad2_PM10</th>\n",
       "    </tr>\n",
       "  </thead>\n",
       "  <tbody>\n",
       "    <tr>\n",
       "      <th>2019-12-11 00:00:00</th>\n",
       "      <td>20.689565</td>\n",
       "      <td>9.900000</td>\n",
       "      <td>NaN</td>\n",
       "      <td>14.444167</td>\n",
       "      <td>17.247500</td>\n",
       "      <td>18.999167</td>\n",
       "      <td>24.155000</td>\n",
       "      <td>19.642500</td>\n",
       "      <td>20.457636</td>\n",
       "      <td>7.216957</td>\n",
       "      <td>...</td>\n",
       "      <td>19.696250</td>\n",
       "      <td>NaN</td>\n",
       "      <td>18.009630</td>\n",
       "      <td>28.750000</td>\n",
       "      <td>15.570000</td>\n",
       "      <td>17.037500</td>\n",
       "      <td>16.954348</td>\n",
       "      <td>28.263478</td>\n",
       "      <td>21.098261</td>\n",
       "      <td>138.020000</td>\n",
       "    </tr>\n",
       "    <tr>\n",
       "      <th>2019-12-11 01:00:00</th>\n",
       "      <td>19.544583</td>\n",
       "      <td>11.552917</td>\n",
       "      <td>NaN</td>\n",
       "      <td>15.643333</td>\n",
       "      <td>17.359091</td>\n",
       "      <td>19.325000</td>\n",
       "      <td>24.452083</td>\n",
       "      <td>19.963750</td>\n",
       "      <td>20.132909</td>\n",
       "      <td>7.132174</td>\n",
       "      <td>...</td>\n",
       "      <td>18.967917</td>\n",
       "      <td>NaN</td>\n",
       "      <td>17.920727</td>\n",
       "      <td>26.425001</td>\n",
       "      <td>16.191667</td>\n",
       "      <td>18.063636</td>\n",
       "      <td>17.977273</td>\n",
       "      <td>29.086957</td>\n",
       "      <td>21.480000</td>\n",
       "      <td>131.409130</td>\n",
       "    </tr>\n",
       "    <tr>\n",
       "      <th>2019-12-11 02:00:00</th>\n",
       "      <td>20.674783</td>\n",
       "      <td>11.908261</td>\n",
       "      <td>NaN</td>\n",
       "      <td>15.837500</td>\n",
       "      <td>16.292609</td>\n",
       "      <td>18.957826</td>\n",
       "      <td>23.498750</td>\n",
       "      <td>16.518333</td>\n",
       "      <td>18.647925</td>\n",
       "      <td>6.781250</td>\n",
       "      <td>...</td>\n",
       "      <td>19.482917</td>\n",
       "      <td>NaN</td>\n",
       "      <td>16.536182</td>\n",
       "      <td>24.299999</td>\n",
       "      <td>12.163636</td>\n",
       "      <td>16.025652</td>\n",
       "      <td>15.672174</td>\n",
       "      <td>27.661304</td>\n",
       "      <td>20.309583</td>\n",
       "      <td>108.567083</td>\n",
       "    </tr>\n",
       "    <tr>\n",
       "      <th>2019-12-11 03:00:00</th>\n",
       "      <td>16.204583</td>\n",
       "      <td>10.213478</td>\n",
       "      <td>NaN</td>\n",
       "      <td>8.932500</td>\n",
       "      <td>12.335217</td>\n",
       "      <td>15.267500</td>\n",
       "      <td>18.443333</td>\n",
       "      <td>14.825833</td>\n",
       "      <td>14.683818</td>\n",
       "      <td>6.935652</td>\n",
       "      <td>...</td>\n",
       "      <td>15.732500</td>\n",
       "      <td>NaN</td>\n",
       "      <td>15.540741</td>\n",
       "      <td>20.550000</td>\n",
       "      <td>14.033333</td>\n",
       "      <td>16.262083</td>\n",
       "      <td>12.452083</td>\n",
       "      <td>22.073043</td>\n",
       "      <td>15.611818</td>\n",
       "      <td>88.941667</td>\n",
       "    </tr>\n",
       "    <tr>\n",
       "      <th>2019-12-11 04:00:00</th>\n",
       "      <td>14.102917</td>\n",
       "      <td>8.425000</td>\n",
       "      <td>NaN</td>\n",
       "      <td>8.863636</td>\n",
       "      <td>9.632500</td>\n",
       "      <td>11.722273</td>\n",
       "      <td>14.563913</td>\n",
       "      <td>12.618182</td>\n",
       "      <td>12.400714</td>\n",
       "      <td>6.684583</td>\n",
       "      <td>...</td>\n",
       "      <td>13.856667</td>\n",
       "      <td>NaN</td>\n",
       "      <td>13.780556</td>\n",
       "      <td>16.075000</td>\n",
       "      <td>9.650000</td>\n",
       "      <td>12.705652</td>\n",
       "      <td>12.473750</td>\n",
       "      <td>18.954783</td>\n",
       "      <td>14.103043</td>\n",
       "      <td>74.079583</td>\n",
       "    </tr>\n",
       "  </tbody>\n",
       "</table>\n",
       "<p>5 rows × 89 columns</p>\n",
       "</div>"
      ],
      "text/plain": [
       "                     591ecdc251d3460011651ffa_PM10  \\\n",
       "2019-12-11 00:00:00                      20.689565   \n",
       "2019-12-11 01:00:00                      19.544583   \n",
       "2019-12-11 02:00:00                      20.674783   \n",
       "2019-12-11 03:00:00                      16.204583   \n",
       "2019-12-11 04:00:00                      14.102917   \n",
       "\n",
       "                     592ca4b851d3460011ea2636_PM10  \\\n",
       "2019-12-11 00:00:00                       9.900000   \n",
       "2019-12-11 01:00:00                      11.552917   \n",
       "2019-12-11 02:00:00                      11.908261   \n",
       "2019-12-11 03:00:00                      10.213478   \n",
       "2019-12-11 04:00:00                       8.425000   \n",
       "\n",
       "                     593458ddad0fa30011ea0962_PM10  \\\n",
       "2019-12-11 00:00:00                            NaN   \n",
       "2019-12-11 01:00:00                            NaN   \n",
       "2019-12-11 02:00:00                            NaN   \n",
       "2019-12-11 03:00:00                            NaN   \n",
       "2019-12-11 04:00:00                            NaN   \n",
       "\n",
       "                     5936c52aad0fa30011033d68_PM10  \\\n",
       "2019-12-11 00:00:00                      14.444167   \n",
       "2019-12-11 01:00:00                      15.643333   \n",
       "2019-12-11 02:00:00                      15.837500   \n",
       "2019-12-11 03:00:00                       8.932500   \n",
       "2019-12-11 04:00:00                       8.863636   \n",
       "\n",
       "                     594c01c7be77820011792181_PM10  \\\n",
       "2019-12-11 00:00:00                      17.247500   \n",
       "2019-12-11 01:00:00                      17.359091   \n",
       "2019-12-11 02:00:00                      16.292609   \n",
       "2019-12-11 03:00:00                      12.335217   \n",
       "2019-12-11 04:00:00                       9.632500   \n",
       "\n",
       "                     595178fb94f0520011e083ed_PM10  \\\n",
       "2019-12-11 00:00:00                      18.999167   \n",
       "2019-12-11 01:00:00                      19.325000   \n",
       "2019-12-11 02:00:00                      18.957826   \n",
       "2019-12-11 03:00:00                      15.267500   \n",
       "2019-12-11 04:00:00                      11.722273   \n",
       "\n",
       "                     5984c712e3b1fa001069150d_PM10  \\\n",
       "2019-12-11 00:00:00                      24.155000   \n",
       "2019-12-11 01:00:00                      24.452083   \n",
       "2019-12-11 02:00:00                      23.498750   \n",
       "2019-12-11 03:00:00                      18.443333   \n",
       "2019-12-11 04:00:00                      14.563913   \n",
       "\n",
       "                     5998a7bad67eb500114b7d7b_PM10  \\\n",
       "2019-12-11 00:00:00                      19.642500   \n",
       "2019-12-11 01:00:00                      19.963750   \n",
       "2019-12-11 02:00:00                      16.518333   \n",
       "2019-12-11 03:00:00                      14.825833   \n",
       "2019-12-11 04:00:00                      12.618182   \n",
       "\n",
       "                     599f3364d67eb50011b85cd4_PM10  \\\n",
       "2019-12-11 00:00:00                      20.457636   \n",
       "2019-12-11 01:00:00                      20.132909   \n",
       "2019-12-11 02:00:00                      18.647925   \n",
       "2019-12-11 03:00:00                      14.683818   \n",
       "2019-12-11 04:00:00                      12.400714   \n",
       "\n",
       "                     59b9030bd67eb500117a3ff2_PM10  ...  \\\n",
       "2019-12-11 00:00:00                       7.216957  ...   \n",
       "2019-12-11 01:00:00                       7.132174  ...   \n",
       "2019-12-11 02:00:00                       6.781250  ...   \n",
       "2019-12-11 03:00:00                       6.935652  ...   \n",
       "2019-12-11 04:00:00                       6.684583  ...   \n",
       "\n",
       "                     5d8a549d5f3de0001a7c3509_PM10  \\\n",
       "2019-12-11 00:00:00                      19.696250   \n",
       "2019-12-11 01:00:00                      18.967917   \n",
       "2019-12-11 02:00:00                      19.482917   \n",
       "2019-12-11 03:00:00                      15.732500   \n",
       "2019-12-11 04:00:00                      13.856667   \n",
       "\n",
       "                     5d9ef41e25683a001ad916c7_PM10  \\\n",
       "2019-12-11 00:00:00                            NaN   \n",
       "2019-12-11 01:00:00                            NaN   \n",
       "2019-12-11 02:00:00                            NaN   \n",
       "2019-12-11 03:00:00                            NaN   \n",
       "2019-12-11 04:00:00                            NaN   \n",
       "\n",
       "                     5d9f216425683a001ae684cf_PM10  \\\n",
       "2019-12-11 00:00:00                      18.009630   \n",
       "2019-12-11 01:00:00                      17.920727   \n",
       "2019-12-11 02:00:00                      16.536182   \n",
       "2019-12-11 03:00:00                      15.540741   \n",
       "2019-12-11 04:00:00                      13.780556   \n",
       "\n",
       "                     5da0a27f25683a001a59271d_PM10  \\\n",
       "2019-12-11 00:00:00                      28.750000   \n",
       "2019-12-11 01:00:00                      26.425001   \n",
       "2019-12-11 02:00:00                      24.299999   \n",
       "2019-12-11 03:00:00                      20.550000   \n",
       "2019-12-11 04:00:00                      16.075000   \n",
       "\n",
       "                     5da202ac25683a001ac232e9_PM10  \\\n",
       "2019-12-11 00:00:00                      15.570000   \n",
       "2019-12-11 01:00:00                      16.191667   \n",
       "2019-12-11 02:00:00                      12.163636   \n",
       "2019-12-11 03:00:00                      14.033333   \n",
       "2019-12-11 04:00:00                       9.650000   \n",
       "\n",
       "                     5dbf1a8ca68df4001adead33_PM10  \\\n",
       "2019-12-11 00:00:00                      17.037500   \n",
       "2019-12-11 01:00:00                      18.063636   \n",
       "2019-12-11 02:00:00                      16.025652   \n",
       "2019-12-11 03:00:00                      16.262083   \n",
       "2019-12-11 04:00:00                      12.705652   \n",
       "\n",
       "                     5dc5d2d37d4ff7001ac78624_PM10  \\\n",
       "2019-12-11 00:00:00                      16.954348   \n",
       "2019-12-11 01:00:00                      17.977273   \n",
       "2019-12-11 02:00:00                      15.672174   \n",
       "2019-12-11 03:00:00                      12.452083   \n",
       "2019-12-11 04:00:00                      12.473750   \n",
       "\n",
       "                     5dcbe2d1306947001a2c353f_PM10  \\\n",
       "2019-12-11 00:00:00                      28.263478   \n",
       "2019-12-11 01:00:00                      29.086957   \n",
       "2019-12-11 02:00:00                      27.661304   \n",
       "2019-12-11 03:00:00                      22.073043   \n",
       "2019-12-11 04:00:00                      18.954783   \n",
       "\n",
       "                     5dd810224ec04e001a2212a3_PM10  \\\n",
       "2019-12-11 00:00:00                      21.098261   \n",
       "2019-12-11 01:00:00                      21.480000   \n",
       "2019-12-11 02:00:00                      20.309583   \n",
       "2019-12-11 03:00:00                      15.611818   \n",
       "2019-12-11 04:00:00                      14.103043   \n",
       "\n",
       "                     5ded15e22b3516001a35dad2_PM10  \n",
       "2019-12-11 00:00:00                     138.020000  \n",
       "2019-12-11 01:00:00                     131.409130  \n",
       "2019-12-11 02:00:00                     108.567083  \n",
       "2019-12-11 03:00:00                      88.941667  \n",
       "2019-12-11 04:00:00                      74.079583  \n",
       "\n",
       "[5 rows x 89 columns]"
      ]
     },
     "execution_count": 11,
     "metadata": {},
     "output_type": "execute_result"
    }
   ],
   "source": [
    "#Using right label because BLUME does the same... Be careful, don't mix up the periods\n",
    "hourly_sensors = final_df.resample('60T', label='right').mean()\n",
    "hourly_sensors.head()"
   ]
  },
  {
   "cell_type": "markdown",
   "metadata": {},
   "source": [
    "For every Hour, get the mean value of all sensor in Berlin in the specified 24h period - both for osem and for blume"
   ]
  },
  {
   "cell_type": "code",
   "execution_count": 12,
   "metadata": {
    "scrolled": true
   },
   "outputs": [],
   "source": [
    "hourly_sensor_mean = hourly_sensors.mean(axis=1)\n",
    "hourly_sensor_mean.name=\"OSeM\"\n",
    "hourly_blume_mean = blume_hourly.mean(axis=1)\n",
    "hourly_blume_mean.name=\"BLUME\""
   ]
  },
  {
   "cell_type": "markdown",
   "metadata": {},
   "source": [
    "Now Append the hourly means from BLUME and append as a second colum to the data-set"
   ]
  },
  {
   "cell_type": "code",
   "execution_count": 13,
   "metadata": {},
   "outputs": [
    {
     "data": {
      "text/plain": [
       "<matplotlib.axes._subplots.AxesSubplot at 0x7f3ee4a206a0>"
      ]
     },
     "execution_count": 13,
     "metadata": {},
     "output_type": "execute_result"
    },
    {
     "data": {
      "image/png": "[encoded data removed]",
      "text/plain": [
       "<Figure size 432x288 with 1 Axes>"
      ]
     },
     "metadata": {
      "needs_background": "light"
     },
     "output_type": "display_data"
    }
   ],
   "source": [
    "blume_vs_osem_hourly = pd.concat([hourly_sensor_mean, hourly_blume_mean], axis=1)\n",
    "blume_vs_osem_hourly.plot()"
   ]
  },
  {
   "cell_type": "markdown",
   "metadata": {},
   "source": [
    "Auf den ersten Blick fällt folgendes auf:\n",
    "1. bis ca. 6 Uhr Frühs sind die Sensoren des OSeM und des BLUME fast identisch.\n",
    "2. Um ca. 15:00 bis 17:00 hat das BLUME einen Ausreißer.\n",
    "3. Es ergeben sich unterschiedliche Kurvenverläuf, mit leicht ähnlichen Ausschlagstendenzen\n",
    "\n",
    "Zu Punkt 2: Was genau ist die Ursache dieses extremen Ausschlags? Schauen wir exemplarisch zur Uhrzeit 15 - 17 an diesem Tag die Messdaten aller BLUME-Sensoren an:"
   ]
  },
  {
   "cell_type": "code",
   "execution_count": 14,
   "metadata": {},
   "outputs": [
    {
     "data": {
      "text/html": [
       "<div>\n",
       "<style scoped>\n",
       "    .dataframe tbody tr th:only-of-type {\n",
       "        vertical-align: middle;\n",
       "    }\n",
       "\n",
       "    .dataframe tbody tr th {\n",
       "        vertical-align: top;\n",
       "    }\n",
       "\n",
       "    .dataframe thead th {\n",
       "        text-align: right;\n",
       "    }\n",
       "</style>\n",
       "<table border=\"1\" class=\"dataframe\">\n",
       "  <thead>\n",
       "    <tr style=\"text-align: right;\">\n",
       "      <th></th>\n",
       "      <th>10</th>\n",
       "      <th>32</th>\n",
       "      <th>42</th>\n",
       "      <th>77</th>\n",
       "      <th>85</th>\n",
       "      <th>88</th>\n",
       "      <th>117</th>\n",
       "      <th>124</th>\n",
       "      <th>143</th>\n",
       "      <th>171</th>\n",
       "      <th>174</th>\n",
       "      <th>220</th>\n",
       "    </tr>\n",
       "  </thead>\n",
       "  <tbody>\n",
       "    <tr>\n",
       "      <th>2019-12-11 13:00:00</th>\n",
       "      <td>15</td>\n",
       "      <td>10.0</td>\n",
       "      <td>19</td>\n",
       "      <td>14</td>\n",
       "      <td>11</td>\n",
       "      <td>19</td>\n",
       "      <td>23.0</td>\n",
       "      <td>19</td>\n",
       "      <td>27</td>\n",
       "      <td>17</td>\n",
       "      <td>29.0</td>\n",
       "      <td>25</td>\n",
       "    </tr>\n",
       "    <tr>\n",
       "      <th>2019-12-11 14:00:00</th>\n",
       "      <td>16</td>\n",
       "      <td>11.0</td>\n",
       "      <td>19</td>\n",
       "      <td>15</td>\n",
       "      <td>11</td>\n",
       "      <td>19</td>\n",
       "      <td>18.0</td>\n",
       "      <td>25</td>\n",
       "      <td>30</td>\n",
       "      <td>17</td>\n",
       "      <td>43.0</td>\n",
       "      <td>24</td>\n",
       "    </tr>\n",
       "    <tr>\n",
       "      <th>2019-12-11 15:00:00</th>\n",
       "      <td>16</td>\n",
       "      <td>11.0</td>\n",
       "      <td>18</td>\n",
       "      <td>16</td>\n",
       "      <td>11</td>\n",
       "      <td>20</td>\n",
       "      <td>20.0</td>\n",
       "      <td>23</td>\n",
       "      <td>27</td>\n",
       "      <td>20</td>\n",
       "      <td>415.0</td>\n",
       "      <td>22</td>\n",
       "    </tr>\n",
       "    <tr>\n",
       "      <th>2019-12-11 16:00:00</th>\n",
       "      <td>14</td>\n",
       "      <td>12.0</td>\n",
       "      <td>18</td>\n",
       "      <td>17</td>\n",
       "      <td>11</td>\n",
       "      <td>20</td>\n",
       "      <td>21.0</td>\n",
       "      <td>23</td>\n",
       "      <td>31</td>\n",
       "      <td>19</td>\n",
       "      <td>1102.0</td>\n",
       "      <td>23</td>\n",
       "    </tr>\n",
       "    <tr>\n",
       "      <th>2019-12-11 17:00:00</th>\n",
       "      <td>16</td>\n",
       "      <td>13.0</td>\n",
       "      <td>18</td>\n",
       "      <td>21</td>\n",
       "      <td>11</td>\n",
       "      <td>23</td>\n",
       "      <td>21.0</td>\n",
       "      <td>23</td>\n",
       "      <td>34</td>\n",
       "      <td>19</td>\n",
       "      <td>36.0</td>\n",
       "      <td>27</td>\n",
       "    </tr>\n",
       "  </tbody>\n",
       "</table>\n",
       "</div>"
      ],
      "text/plain": [
       "                     10    32   42   77   85   88    117  124  143  171  \\\n",
       "2019-12-11 13:00:00   15  10.0   19   14   11   19  23.0   19   27   17   \n",
       "2019-12-11 14:00:00   16  11.0   19   15   11   19  18.0   25   30   17   \n",
       "2019-12-11 15:00:00   16  11.0   18   16   11   20  20.0   23   27   20   \n",
       "2019-12-11 16:00:00   14  12.0   18   17   11   20  21.0   23   31   19   \n",
       "2019-12-11 17:00:00   16  13.0   18   21   11   23  21.0   23   34   19   \n",
       "\n",
       "                        174  220  \n",
       "2019-12-11 13:00:00    29.0   25  \n",
       "2019-12-11 14:00:00    43.0   24  \n",
       "2019-12-11 15:00:00   415.0   22  \n",
       "2019-12-11 16:00:00  1102.0   23  \n",
       "2019-12-11 17:00:00    36.0   27  "
      ]
     },
     "execution_count": 14,
     "metadata": {},
     "output_type": "execute_result"
    }
   ],
   "source": [
    "#BLUME related: Careful adjuste the dates! BLUME publishes the hourly mean for 13:00 - 14:00 as 14:00\n",
    "end_exception = pd.Timestamp(2019, 12, 11, 17)\n",
    "start_exception = pd.Timestamp(end_exception - timedelta(hours=4))\n",
    "mask_exception = (df_global.index >= start_exception) & (df_global.index <= end_exception)\n",
    "blume_hourly_exception = df_global.loc[mask_exception]\n",
    "blume_hourly_exception"
   ]
  },
  {
   "cell_type": "markdown",
   "metadata": {},
   "source": [
    "Es ist erkennbar, dass die Messtation 174 in 2 Stunden deutliche Ausreiser hat. Aufgrund ihres Hohen Messwertes beeinflussen diese Werte die Messwerte der anderen Stationen. Streitbar ist, ob solche Werte das Ergebnis verälschen, denn Sie können ja trotz ihrer Abnormalität die Wirklichkeit wiedergeben. Zum Beispiel könnte eine vorrübergehende Baustelle, ein Demonstrationszug mit Pyrotechnik oder ein Hausbrand den Ausschlag geben. Es ist aber auch möglich, dass es sich hierbei um eine fehlerhafte Messung handelt. Zum Beispiel könnte die Luftansaugung und dahinterstehende Messtechnik neu eingestellt worden sein, jemand mutwillig die Messergebnisse verfälschen oder ein sonstiger Eingriff stattgefunden haben. In jedemfall handelt es sich jedoch um Hyperlokale oder für diese Messtation speziefische Messbeeinflussungen, die in einem Vergleich mit Umgebungsstationen welche diese Beeinflussung nicht erfahren haben die Rechnung verfälscht. Indem die Ausreißer aus den Daten herausgefiltert werden, versucht diese Untersuchung eine homogene Messpunktlandschaft zu erzeugen und nimmt dabei einen experimentellen Charakter an."
   ]
  },
  {
   "cell_type": "markdown",
   "metadata": {},
   "source": [
    "## BLUME: Entferne Ausreißer\n",
    "Prinzipiell sind die Daten der BLUME als sehr akkurat zu betrachten. Außerdem sind die Werte schon vor der Veröffentlichung auf ein Stundenmittel hochgerechnet worden. Das bedeutet, dass wenn im BLUME Datensatz ein Ausreißer ist, dann war an der Messstation über mind. eine Stunde hinweg eine starke Feinstaubkonzentration. Das kann entweder an einem verfälschtem Messergebnis oder an einer kurzfristigen Quelle starker Exposition (Baustelle, Brand) gelegen haben."
   ]
  },
  {
   "cell_type": "markdown",
   "metadata": {
    "pycharm": {
     "name": "#%% md\n"
    }
   },
   "source": [
    "### Silvester: Ein Tag maximaler Belastung\n",
    "Wenn Ausreiser aus den Daten elimiert werden sollen natürliche Extremwerte davon nicht betroffen sein. Ein Beispiel solcher Werte ist der Silvestertag."
   ]
  },
  {
   "cell_type": "code",
   "execution_count": 15,
   "metadata": {
    "pycharm": {
     "name": "#%%\n"
    }
   },
   "outputs": [
    {
     "data": {
      "image/png": "[encoded data removed]",
      "text/plain": [
       "<Figure size 432x288 with 1 Axes>"
      ]
     },
     "metadata": {
      "needs_background": "light"
     },
     "output_type": "display_data"
    }
   ],
   "source": [
    "#BLUME related: Careful adjuste the dates! BLUME publishes the hourly mean for 13:00 - 14:00 as 14:00\n",
    "end_nye = pd.Timestamp(2020, 1, 1, 5)\n",
    "start_nye = pd.Timestamp(end_nye - timedelta(hours=7))\n",
    "mask_nye = (df_global.index >= start_nye) & (df_global.index <= end_nye)\n",
    "blume_nye_exception = df_global.loc[mask_nye]\n",
    "\n",
    "blume_nye_exception.plot()\n",
    "\n",
    "#Place labels\n",
    "plt.xlabel('Zeitverlauf über Silvester') \n",
    "plt.ylabel('PM10 in mu g ²')\n",
    "\n",
    "plt.show()\n"
   ]
  },
  {
   "cell_type": "markdown",
   "metadata": {
    "pycharm": {
     "name": "#%% md\n"
    }
   },
   "source": [
    "Erkentniss: Eine Fixe Größe, bzw. ein absoluter Wert, bei dem PM10 Werte gedeckelt werden können, existiert nicht. Es muss eine dynamische Ausreisererkennung genutzt werden, die nur auf extreme Werte reagiert. Betrachtet man die Silvester Werte, so erscheint das schwierig. Wie soll der Algorithmus diese Spitzen von den im vorherigen Abschnitt gezeignet Spitzen an einem normalen Tag unterscheiden können, die ja vermeintliche Ausreiser sind?"
   ]
  },
  {
   "cell_type": "markdown",
   "metadata": {},
   "source": [
    "### Betrachtung aller Maximalwerte\n",
    "Um das Ausmaß der Ausreiser besser Einordnen zu können, betrachten wir alle Außreiser aller Stationen."
   ]
  },
  {
   "cell_type": "code",
   "execution_count": 16,
   "metadata": {},
   "outputs": [
    {
     "data": {
      "text/plain": [
       "<matplotlib.axes._subplots.AxesSubplot at 0x7f3ee4913588>"
      ]
     },
     "execution_count": 16,
     "metadata": {},
     "output_type": "execute_result"
    },
    {
     "data": {
      "image/png": "[encoded data removed]",
      "text/plain": [
       "<Figure size 432x288 with 1 Axes>"
      ]
     },
     "metadata": {
      "needs_background": "light"
     },
     "output_type": "display_data"
    }
   ],
   "source": [
    "blume_ausreiser_total = df_global[df_global > 70]\n",
    "\n",
    "blume_ausreiser_total.plot(style=\".\")"
   ]
  },
  {
   "cell_type": "markdown",
   "metadata": {},
   "source": [
    "Erkentniss: Abseits von Silvester, hat nur die Station 174 regelmäßige Ausreißer mit Werten über 70. Es ist weiterhin unklar, was am 2019-12-11 passierte, dass die Werte so abheben. Vermutlich ist es am besten, die Werte überhaupt nicht zu korrigieren, da hier ersichtlich ist, dass es so wenige Werte sind die überhaupt nicht schwer ins Gewicht fallen. Vielleicht kann zu einem späteren Zeitpunkt noch eine bessere Aussage getroffen werden, was genau am 2019-12-11 an der Station 174 passierte."
   ]
  },
  {
   "cell_type": "markdown",
   "metadata": {
    "pycharm": {
     "name": "#%% md\n"
    }
   },
   "source": [
    "## OSeM: Entferne Außreiser\n",
    "Aufgrund der hohen Zeitlichen Auflösung der OSeM Daten, fallen Außreiser weniger ins Gewicht. Da die Daten aber nicht schon vorab auf Stundenwerte gemittelt wurden wie bei BLUME-Messwerten, können Außreiser anhand der Nachbar-Messwerte leicht identifiziert werden. Das macht insbesondere deswegen Sinn, weil davon ausgegangen wird dass OSeM Messgeräte nicht dieselbe Präzision in der Bedienung erfahren wie die von BLUME. Kurze Ausreißer können z.B. davon kommen, dass eine Person vom Nachbarbalkon Zigarettenrauch in den Sensor bläßt.\n",
    "Nachdem alle Außreiser von einem Sensor elimiert wurden, kann auch noch geprüft werden ob ein Sensor insgesamt Falsche Werte liefert. Wenn dieser z.B. im Betrachtungszeitraum im Median < 1 misst, kann dieser gefiltert werden. Hier muss aber besonders vorsichtig gefiltert werden, denn wenn z.B. eine Hintergrund- oder Waldstation insgesamt einen Median < 3 liefert, kann das durchaus realistisch."
   ]
  },
  {
   "cell_type": "markdown",
   "metadata": {
    "pycharm": {
     "name": "#%% md\n"
    }
   },
   "source": [
    "### Lokale Ausreiser in den Zeitserien entfernen\n",
    "Zwei bekannte Methoden zum Entfernen von Ausreißern sind: IQR Score und Z-Score. Beide nehmen den Datensatz als ganzes und entfernen dann anhand von Mittelwerten oder Quantillen. Das Problem dabei ist, dass die hohe zeitliche Auflösung manchmal für Ausreiser sorgt, die unter bezugnahme des gesamtheitlichen Mittels keinen Ausreiser darstellen. Wenn man jedoch nur die Umgebenden Werte betrachtet, ist der Ausreißer erkennbar. Zum Beispiel:"
   ]
  },
  {
   "cell_type": "code",
   "execution_count": 17,
   "metadata": {},
   "outputs": [
    {
     "data": {
      "text/plain": [
       "<matplotlib.axes._subplots.AxesSubplot at 0x7f3ee22536a0>"
      ]
     },
     "execution_count": 17,
     "metadata": {},
     "output_type": "execute_result"
    },
    {
     "data": {
      "image/png": "[encoded data removed]",
      "text/plain": [
       "<Figure size 432x288 with 1 Axes>"
      ]
     },
     "metadata": {
      "needs_background": "light"
     },
     "output_type": "display_data"
    }
   ],
   "source": [
    "end_test_outliers = pd.Timestamp(2019, 12, 11, 12)\n",
    "start_test_outliers = pd.Timestamp(end_test_outliers - timedelta(hours=12))\n",
    "#Picking a random example of a sensor to look for a outlier\n",
    "test_outliers = final_df.iloc[:, 4].dropna()\n",
    "test_outliers_timeslot = test_outliers[(test_outliers.index >= start_test_outliers) & (test_outliers.index <= end_test_outliers)]\n",
    "\n",
    "test_outliers_timeslot.plot()"
   ]
  },
  {
   "cell_type": "markdown",
   "metadata": {},
   "source": [
    "### Hampel-Filter\n",
    "Für die Erkennung von Ausreisern einer Zeitserie ist der Hampel-Filter geeignet. Ein sehr guter Artikel, der das weitere Vorgehen beschreibt und aus dem die folgenden Code-Abschnitte stammen ist dieser hier: https://towardsdatascience.com/outlier-detection-with-hampel-filter-85ddf523c73d\n",
    "\n",
    "Es gibt zwei Einstellbare Variablen:\n",
    "- Größe des Sliding Windows\n",
    "- Anzahl an Standardabweichungen welche den Ausreiser identifizieren"
   ]
  },
  {
   "cell_type": "code",
   "execution_count": 18,
   "metadata": {},
   "outputs": [],
   "source": [
    "def hampel_filter_demo(input_series, window_size=10, n_sigmas=3):\n",
    "\n",
    "    k = 1.4826 # scale factor for Gaussian distribution\n",
    "    new_series = input_series.copy()\n",
    "\n",
    "    # helper lambda function \n",
    "    MAD = lambda x: np.median(np.abs(x - np.median(x)))\n",
    "    \n",
    "    rolling_median = input_series.rolling(window=2*window_size, center=True).median()\n",
    "    rolling_mad = k * input_series.rolling(window=2*window_size, center=True).apply(MAD)\n",
    "    diff = np.abs(input_series - rolling_median)\n",
    "\n",
    "    indices = list(np.argwhere(diff > (n_sigmas * rolling_mad)).flatten())\n",
    "    new_series[indices] = rolling_median[indices]\n",
    "    \n",
    "    return new_series, indices"
   ]
  },
  {
   "cell_type": "markdown",
   "metadata": {},
   "source": [
    "Nun werden die Parameter eingestellt und die Outlier grafisch dargestellt"
   ]
  },
  {
   "cell_type": "code",
   "execution_count": 19,
   "metadata": {
    "scrolled": true
   },
   "outputs": [
    {
     "name": "stderr",
     "output_type": "stream",
     "text": [
      "/home/konstantin/.virtualenvs/Python_BA/lib/python3.6/site-packages/ipykernel_launcher.py:10: FutureWarning: Currently, 'apply' passes the values as ndarrays to the applied function. In the future, this will change to passing it as Series objects. You need to specify 'raw=True' to keep the current behaviour, and you can pass 'raw=False' to silence this warning\n",
      "  # Remove the CWD from sys.path while we load stuff.\n",
      "/home/konstantin/.virtualenvs/Python_BA/lib/python3.6/site-packages/numpy/core/fromnumeric.py:61: FutureWarning: Series.nonzero() is deprecated and will be removed in a future version.Use Series.to_numpy().nonzero() instead\n",
      "  return bound(*args, **kwds)\n"
     ]
    }
   ],
   "source": [
    "res, detected_outliers = hampel_filter_demo(test_outliers_timeslot, window_size=10, n_sigmas=3)"
   ]
  },
  {
   "cell_type": "code",
   "execution_count": 20,
   "metadata": {
    "scrolled": true,
    "pycharm": {
     "name": "#%%\n"
    }
   },
   "outputs": [
    {
     "data": {
      "image/png": "[encoded data removed]",
      "text/plain": [
       "<Figure size 432x288 with 1 Axes>"
      ]
     },
     "metadata": {
      "needs_background": "light"
     },
     "output_type": "display_data"
    }
   ],
   "source": [
    "plt.plot(np.arange(len(test_outliers_timeslot)), test_outliers_timeslot)\n",
    "plt.scatter(detected_outliers, test_outliers_timeslot[detected_outliers], c='r', label='outlier')\n",
    "plt.title('Detection of Outliers using Hample-Filter')\n",
    "plt.xlabel('Time Index')\n",
    "plt.ylabel('Values')\n",
    "plt.legend();"
   ]
  },
  {
   "cell_type": "markdown",
   "metadata": {
    "pycharm": {
     "name": "#%% md\n"
    }
   },
   "source": [
    "Als nächstes werden die Outlier durch Mittelwerte ersetzt. Die Roten Punkte sind jetzt an leeren Stellen, wo früher die Outlier lagen."
   ]
  },
  {
   "cell_type": "code",
   "execution_count": 21,
   "metadata": {
    "pycharm": {
     "name": "#%%\n"
    }
   },
   "outputs": [
    {
     "data": {
      "image/png": "[encoded data removed]",
      "text/plain": [
       "<Figure size 432x288 with 1 Axes>"
      ]
     },
     "metadata": {
      "needs_background": "light"
     },
     "output_type": "display_data"
    }
   ],
   "source": [
    "plt.plot(np.arange(len(res)), res)\n",
    "plt.scatter(detected_outliers, test_outliers_timeslot[detected_outliers], c='r', label='outlier')\n",
    "plt.xlabel('Time Index')\n",
    "plt.ylabel('Values')\n",
    "plt.title('Cleaned series (without detected outliers)')\n",
    "plt.legend();"
   ]
  },
  {
   "cell_type": "markdown",
   "metadata": {
    "pycharm": {
     "name": "#%% md\n"
    }
   },
   "source": [
    "Entferne alle Outlier aus dem kompletten Datenbestand. Dazu wird die Funktion leicht umgeschrieben, da hier jetzt keine Visualisierung mehr nötig ist. Außerdem werden die NAN Werte kurzfristig entfernt, damit die Berechnung performanter ist."
   ]
  },
  {
   "cell_type": "code",
   "execution_count": 22,
   "metadata": {
    "pycharm": {
     "name": "#%%\n"
    }
   },
   "outputs": [],
   "source": [
    "def hampel_filter_apply(input_series, window_size=10, n_sigmas=3):\n",
    "\n",
    "    input_series.dropna(inplace=True)\n",
    "    k = 1.4826 # scale factor for Gaussian distribution\n",
    "    new_series = input_series.copy()\n",
    "\n",
    "    # helper lambda function \n",
    "    MAD = lambda x: np.median(np.abs(x - np.median(x)))\n",
    "    \n",
    "    rolling_median = input_series.rolling(window=2*window_size, center=True).median()\n",
    "    rolling_mad = k * input_series.rolling(window=2*window_size, center=True).apply(MAD)\n",
    "    diff = np.abs(input_series - rolling_median)\n",
    "\n",
    "    indices = list(np.argwhere(diff > (n_sigmas * rolling_mad)).flatten())\n",
    "    new_series[indices] = rolling_median[indices]\n",
    "    \n",
    "    return new_series"
   ]
  },
  {
   "cell_type": "code",
   "execution_count": 23,
   "metadata": {
    "scrolled": true,
    "pycharm": {
     "name": "#%%\n"
    }
   },
   "outputs": [
    {
     "name": "stderr",
     "output_type": "stream",
     "text": [
      "/home/konstantin/.virtualenvs/Python_BA/lib/python3.6/site-packages/ipykernel_launcher.py:11: FutureWarning: Currently, 'apply' passes the values as ndarrays to the applied function. In the future, this will change to passing it as Series objects. You need to specify 'raw=True' to keep the current behaviour, and you can pass 'raw=False' to silence this warning\n",
      "  # This is added back by InteractiveShellApp.init_path()\n"
     ]
    }
   ],
   "source": [
    "final_df_outliers = final_df.iloc[:,:].apply(hampel_filter_apply)"
   ]
  },
  {
   "cell_type": "markdown",
   "metadata": {
    "pycharm": {
     "name": "#%% md\n"
    }
   },
   "source": [
    "Indem man die Messpunkte aus dem Finalen Datensatz mit den entfernten Outliers über die des Auschnittes aus dem Vorherigen Test legt, kann man Prüfen, ob man richtig entfernt hat."
   ]
  },
  {
   "cell_type": "code",
   "execution_count": 26,
   "metadata": {
    "pycharm": {
     "name": "#%%\n"
    }
   },
   "outputs": [
    {
     "data": {
      "image/png": "[encoded data removed]",
      "text/plain": [
       "<Figure size 432x288 with 1 Axes>"
      ]
     },
     "metadata": {
      "needs_background": "light"
     },
     "output_type": "display_data"
    }
   ],
   "source": [
    "#Picking the same random example of a sensor to look for a outlier that we took earlier\n",
    "test_outliers_again = final_df_outliers.iloc[:, 4].dropna()\n",
    "test_outliers_again_timeslot = test_outliers_again[(test_outliers_again.index >= start_test_outliers) & (test_outliers_again.index <= end_test_outliers)]\n",
    "\n",
    "plot_df = pd.concat([test_outliers_timeslot, test_outliers_again_timeslot], axis=1, sort=False)\n",
    "plot_df.columns = ['Vorher', 'Nachher']\n",
    "\n",
    "plot_df.plot()\n",
    "# set labels for both axes\n",
    "plt.xlabel('Zeitverlauf')\n",
    "plt.ylabel('PM10 Messwerte')\n",
    "plt.title(\"Vergleich mit und ohne Outlier Globaler Datensatz\")\n",
    "plt.legend();"
   ]
  },
  {
   "cell_type": "markdown",
   "metadata": {
    "pycharm": {
     "name": "#%% md\n"
    }
   },
   "source": [
    "Erkentnis: Auch bei der globalen Bereinigung des Datensatzes wurden die Ausreiser sauber entfernt. Es ist also davon auszugehen, dass im gesamten sauber gearbeitet wurde."
   ]
  },
  {
   "cell_type": "markdown",
   "source": [
    "### Unzuverlässige Sensoren entfernen\n",
    "Betrachten wir zunächst die durchschnittlich gemessenen Werte der Sensoren. Zuerst in einem Diagramm, dann in einem Boxplot um die Quantillen zu sehen."
   ],
   "metadata": {
    "collapsed": false
   }
  },
  {
   "cell_type": "code",
   "execution_count": null,
   "outputs": [],
   "source": [
    "#Using right label because BLUME does the same... Be careful, don't mix up the periods\n",
    "global_sensor_means = final_df.mean().sort_values(ascending=True)\n",
    "plt.plot(np.arange(len(global_sensor_means)), global_sensor_means)\n",
    "plt.xlabel('Jeder einezelne Sensor aufsteigend nummeriert')\n",
    "plt.ylabel('PM10 Mess-Mittel')\n",
    "plt.title('Alle einzelnen Sensor Mean-Werte')\n",
    "plt.show()"
   ],
   "metadata": {
    "collapsed": false,
    "pycharm": {
     "name": "#%%\n"
    }
   }
  },
  {
   "cell_type": "code",
   "execution_count": null,
   "outputs": [],
   "source": [
    "ax = sns.boxplot(x=global_sensor_means)\n",
    "plt.xlabel(\"PM10 Mess-Mittel\")\n",
    "plt.title(\"Alle einzelnen Sensor Mean-Werte\")\n",
    "plt.show()"
   ],
   "metadata": {
    "collapsed": false,
    "pycharm": {
     "name": "#%%\n"
    }
   }
  },
  {
   "cell_type": "markdown",
   "source": [
    "Erkentnis: Es gibt einen sehr großen Mittelbereich, zwischen ca. 8-16. Es gibt einen Minimum und Maximum Bereich mit Extremwerten um 0 herum bzw. ab 20 Aufwärts. Nachfolgend werden die oberen und unteren Extram der Sensorwerte betrachtet um ein Muster zu finden."
   ],
   "metadata": {
    "collapsed": false
   }
  },
  {
   "cell_type": "code",
   "execution_count": null,
   "outputs": [],
   "source": [
    "# Creates two subplots and unpacks the output array immediately\n",
    "extreme_tail_plot = global_sensor_means.tail(10)\n",
    "tail_plot = global_sensor_means[global_sensor_means < 25].tail(25)\n",
    "head_plot = global_sensor_means.head(20)\n",
    "f, (ax1, ax2, ax3) = plt.subplots(1, 3, figsize=(15,5))\n",
    "#Plot Lower Bounds\n",
    "ax1.scatter(np.arange(len(head_plot.index)), head_plot.values)\n",
    "ax1.set_xlabel('Jeder einezelne Sensor aufsteigend nummeriert')\n",
    "ax1.set_ylabel('PM10 Mess-Mittel')\n",
    "ax1.set_title('Minima der Messwerte')\n",
    "#Plot Middle-High Bounds\n",
    "ax2.scatter(np.arange(len(tail_plot.index)), tail_plot.values)\n",
    "ax2.set_title('Mittleres Maxima der Messwerte')\n",
    "\n",
    "#Plot Extreme-High Bounds\n",
    "ax3.scatter(np.arange(len(extreme_tail_plot.index)), extreme_tail_plot.values)\n",
    "ax3.set_title('Oberes Maxima der Messwerte')\n",
    "\n",
    "f.show()"
   ],
   "metadata": {
    "collapsed": false,
    "pycharm": {
     "name": "#%%\n"
    }
   }
  },
  {
   "cell_type": "markdown",
   "source": [
    "##### Interpretation\n",
    "- Auf Abb1. ist deutlich zu sehen, dass es 7 Messstationen gibt an denen stark unterdurchschnittliche Werte gemessen werden. Nachbarmesswerte fangen erst ab dem ca. dreifachen Eigenwert an und so kann bei einer konservativen Einschätzung davon ausgegangen werden, dass Messtationen unter 2 fehlerhaft sind.\n",
    "- Auf Abb2. und Abb3 ist zu sehen, dass es bis 25 oder 30 eine relativ breite Verteilung an Messwerten gibt, deren Muster plausibel wirken. Sicherlich kann der oberste Punkt bei knapp 60 als Unzuverlässig eingestuft werden. Alle Punkte darunter sind jedoch bei einer konservativen Interpretation nicht eindeutig als Ausreißer zu erkennen.\n",
    "- Für die weiteren Berechnungen werden nur die Sensoren im Bereich 2 < x < 40 Berücksichtig.\n",
    "\n",
    "Im Nachfolgenden Schritt werden die Extremwerte entfernt"
   ],
   "metadata": {
    "collapsed": false
   }
  },
  {
   "cell_type": "code",
   "execution_count": null,
   "outputs": [],
   "source": [
    "#Create and apply a Mask to Remove those Sensors, that measure invalid\n",
    "clean_extremas = global_sensor_means[(global_sensor_means > 2) & (global_sensor_means < 40)]\n",
    "final_df_outliers_extrema = final_df_outliers[clean_extremas.index]\n",
    "\n",
    "#Calculate the Means to depict and verify the results\n",
    "final_df_outliers_extrema_means = final_df_outliers_extrema.mean().sort_values(ascending=True)\n",
    "plt.scatter(np.arange(len(final_df_outliers_extrema_means)), final_df_outliers_extrema_means)\n",
    "plt.ylim(2,40)\n",
    "plt.show()"
   ],
   "metadata": {
    "collapsed": false,
    "pycharm": {
     "name": "#%%\n"
    }
   }
  },
  {
   "cell_type": "markdown",
   "source": [
    "## Rekapitulation des Kapitels Daten - Aufbereitung\n",
    "- Zunächst wurden die aktuellen Daten von BLUME und OSeM eingeladen.\n",
    "- Anhand eines simplen Stundenmittelwert wurden die Daten erstmals verglichen\n",
    "- Anhand eines Stundenmittelwert Vergleichs über 24h wurden die Daten gegeneinander grafisch verglichen\n",
    "-- Ausreiser sowohl bei OSeM als auch bei BLUME wurden erkannt\n",
    "- Ausreiser bei BLUME werden akzeptiert, da die Daten von BLUME als Hochakurat eingestuft werden und lokale Maxima tatsächlich passieren können (Bsp: Silvester). Ein künstlicher Eingriff könnte die Gefahr einer Verunreinigung der Daten erhöhen und ist angesichts der absolut gesehen wenigen Maxima auch nicht nötig\n",
    "- Ausreiser bei der OSeM werden mittels des Hampel-Filters normalisiert. Anhand eines Beispielhaften Ausschnitts einer Messstation wurden versucht die richtigen Parameter zu finden. Mit diesen wurde dann der ganze Datensatz normalisiert.\n",
    "- Zudem wurden bei der OSeM Stationen entfernt, die im Durchschnitt deutlich andere Ergebnisse messen, als alle anderen Stationen. Mittels einer Grapishen Analyse wurden Ober- und Untergrenzen definiert welche außerhalb des statistisch erkannten Musters liegen, in dem Stationen üblicherweise Durchschnittswerte liefern."
   ],
   "metadata": {
    "collapsed": false
   }
  },
  {
   "cell_type": "markdown",
   "source": [
    "## Neues Vergleichsmas: Lineare Regression\n",
    "Grafische Vergleiche und Diagramme helfen Muster zu erkennen und Daten schnell und einfach verstehen und vergleichen zu können. Manche Feinheiten und Ähnlichkeiten in den Daten können aber schneller und gründlicher mit der Linearen Regression erkannt werden. Insbesondere zum Vergleichen der Linearität der Daten von OSeM mit denen von BLUME eignet sich diese Berechnung. Die Daten der BLUME dienen hierbei als die unabhängige und die Daten von OSeM als abhängige Variable. Ein R²-Wert nahe 1 bedeutet, dass sich die Daten sehr ähnlich sind während ein kleiner R²-Wert einen großen Unterschied in den Daten bedeutet.\n",
    "\n",
    "$$x_{1,2} = {-b\\pm\\sqrt{b^2 - 4ac} \\over 2a}.$$\n",
    "\n",
    "$$A %  = {-b\\pm\\sqrt{b^2 - 4ac} \\over 2a}.$$\n",
    "\n",
    "Im folgenden wird der Versuch zum Eingang der Arbeit wiedrholt, an dem der komplette Datensatz eines Tages im Stündlichen Mittel verglichen wird und mittels linearer Regression verglichen. Zuerst werden die Daten vor der Bereinigung verglichen und dann dannach."
   ],
   "metadata": {
    "collapsed": false
   }
  },
  {
   "cell_type": "code",
   "execution_count": null,
   "outputs": [],
   "source": [
    "#Using right label because BLUME does the same... Be careful, don't mix up the periods\n",
    "#Calculate the Hourly Mean for every Sensor seperately\n",
    "hourly_sensors_preped = final_df_outliers_extrema.resample('60T', label='right').mean()\n",
    "#Calculate the Hourly Mean of all Sensors Berlin-Wide\n",
    "hourly_sensors_preped_mean = hourly_sensors.mean(axis=1)\n",
    "hourly_sensors_preped_mean.name = \"OSeM Preprocessed\"\n",
    "\n",
    "#Since we did not alter the BLUME data, we can reuse the one from the beginning\n",
    "#--hourly_blume_mean = blume_hourly.mean(axis=1)\n",
    "#--hourly_blume_mean.name=\"BLUME\"\n",
    "\n",
    "blume_vs_osem_hourly_preped = pd.concat([hourly_sensors_preped_mean, hourly_sensor_mean, hourly_blume_mean], axis=1)\n",
    "blume_vs_osem_hourly_preped.plot()"
   ],
   "metadata": {
    "collapsed": false,
    "pycharm": {
     "name": "#%%\n"
    }
   }
  },
  {
   "cell_type": "code",
   "execution_count": null,
   "outputs": [],
   "source": [
    "print(r2_score(hourly_blume_mean, hourly_sensors_preped_mean))\n",
    "print(r2_score(hourly_blume_mean.values, hourly_blume_mean.values))\n",
    "print(r2_score(hourly_blume_mean.iloc[:8].values, hourly_sensors_preped_mean.iloc[:8].values))"
   ],
   "metadata": {
    "collapsed": false,
    "pycharm": {
     "name": "#%%\n"
    }
   }
  },
  {
   "cell_type": "code",
   "execution_count": null,
   "outputs": [],
   "source": [
    "f, (ax1, ax2) = plt.subplots(1, 2, figsize=(15,5))\n",
    "#Plot Lower Bounds\n",
    "x = np.arange(len(hourly_blume_mean.iloc[:9].index))\n",
    "y_pred = hourly_sensors_preped_mean.iloc[:9].values\n",
    "y_real = hourly_blume_mean.iloc[:9].values\n",
    "r2_zoom = r2_score(y_real, y_pred)\n",
    "ax1.scatter(x, y_pred)\n",
    "ax1.plot(x, y_real*r2_zoom)\n",
    "ax1.set_xlabel('Jeder einezelne Sensor aufsteigend nummeriert')\n",
    "ax1.set_ylabel('PM10 Mess-Mittel')\n",
    "ax1.set_title('Minima der Messwerte')\n",
    "#Plot Middle-High Bounds\n",
    "r2_big = r2_score(hourly_blume_mean, hourly_sensors_preped_mean)\n",
    "ax2.scatter(np.arange(len(hourly_blume_mean.index)), hourly_sensors_preped_mean.values)\n",
    "ax2.plot(np.arange(len(hourly_blume_mean.index)), hourly_sensors_preped_mean * r2_big)\n",
    "\n",
    "#sns.regplot(np.arange(len(hourly_blume_mean.index)), hourly_sensors_preped_mean.values, ci=None, ax=ax2)\n",
    "ax2.set_title('Mittleres Maxima der Messwerte')\n",
    "\n",
    "\n",
    "f.show()"
   ],
   "metadata": {
    "collapsed": false,
    "pycharm": {
     "name": "#%%\n"
    }
   }
  },
  {
   "cell_type": "code",
   "execution_count": null,
   "outputs": [],
   "source": [
    "sns.set_style('ticks')\n",
    "sns.regplot(np.arange(len(hourly_blume_mean.iloc[:8].index)), hourly_sensors_preped_mean.iloc[:8].values, ci=None)\n",
    "sns.despine()  "
   ],
   "metadata": {
    "collapsed": false,
    "pycharm": {
     "name": "#%%\n"
    }
   }
  },
  {
   "cell_type": "markdown",
   "metadata": {},
   "source": []
  },
  {
   "cell_type": "code",
   "execution_count": 30,
   "metadata": {
    "scrolled": true
   },
   "outputs": [
    {
     "data": {
      "image/png": "[encoded data removed]",
      "text/plain": [
       "<Figure size 432x288 with 1 Axes>"
      ]
     },
     "metadata": {
      "needs_background": "light"
     },
     "output_type": "display_data"
    }
   ],
   "source": [
    "#Using right label because BLUME does the same... Be careful, don't mix up the periods\n",
    "global_sensor_means = final_df.mean().sort_values(ascending=True)\n",
    "plt.plot(np.arange(len(global_sensor_means)), global_sensor_means)\n",
    "plt.xlabel('Jeder einezelne Sensor aufsteigend nummeriert')\n",
    "plt.ylabel('PM10 Mess-Mittel')\n",
    "plt.title('Alle einzelnen Sensor Mean-Werte')\n",
    "plt.show()"
   ]
  },
  {
   "cell_type": "code",
   "execution_count": 80,
   "metadata": {},
   "outputs": [
    {
     "data": {
      "image/png": "[encoded data removed]",
      "text/plain": [
       "<Figure size 432x288 with 1 Axes>"
      ]
     },
     "metadata": {
      "needs_background": "light"
     },
     "output_type": "display_data"
    }
   ],
   "source": [
    "ax = sns.boxplot(x=global_sensor_means)\n",
    "plt.xlabel(\"PM10 Mess-Mittel\")\n",
    "plt.title(\"Alle einzelnen Sensor Mean-Werte\")\n",
    "plt.show()"
   ]
  },
  {
   "cell_type": "markdown",
   "metadata": {},
   "source": [
    "Erkentnis: Es gibt einen sehr großen Mittelbereich, zwischen ca. 8-16. Es gibt einen Minimum und Maximum Bereich mit Extremwerten um 0 herum bzw. ab 20 Aufwärts. Nachfolgend werden die oberen und unteren Extram der Sensorwerte betrachtet um ein Muster zu finden."
   ]
  },
  {
   "cell_type": "code",
   "execution_count": 77,
   "metadata": {},
   "outputs": [
    {
     "name": "stderr",
     "output_type": "stream",
     "text": [
      "/home/konstantin/.virtualenvs/Python_BA/lib/python3.6/site-packages/ipykernel_launcher.py:19: UserWarning: Matplotlib is currently using module://ipykernel.pylab.backend_inline, which is a non-GUI backend, so cannot show the figure.\n"
     ]
    },
    {
     "data": {
      "image/png": "[encoded data removed]",
      "text/plain": [
       "<Figure size 1080x360 with 3 Axes>"
      ]
     },
     "metadata": {
      "needs_background": "light"
     },
     "output_type": "display_data"
    }
   ],
   "source": [
    "# Creates two subplots and unpacks the output array immediately\n",
    "extreme_tail_plot = global_sensor_means.tail(10)\n",
    "tail_plot = global_sensor_means[global_sensor_means < 25].tail(25)\n",
    "head_plot = global_sensor_means.head(20)\n",
    "f, (ax1, ax2, ax3) = plt.subplots(1, 3, figsize=(15,5))\n",
    "#Plot Lower Bounds\n",
    "ax1.scatter(np.arange(len(head_plot.index)), head_plot.values)\n",
    "ax1.set_xlabel('Jeder einezelne Sensor aufsteigend nummeriert')\n",
    "ax1.set_ylabel('PM10 Mess-Mittel')\n",
    "ax1.set_title('Minima der Messwerte')\n",
    "#Plot Middle-High Bounds\n",
    "ax2.scatter(np.arange(len(tail_plot.index)), tail_plot.values)\n",
    "ax2.set_title('Mittleres Maxima der Messwerte')\n",
    "\n",
    "#Plot Extreme-High Bounds\n",
    "ax3.scatter(np.arange(len(extreme_tail_plot.index)), extreme_tail_plot.values)\n",
    "ax3.set_title('Oberes Maxima der Messwerte')\n",
    "\n",
    "f.show()"
   ]
  },
  {
   "cell_type": "markdown",
   "metadata": {},
   "source": [
    "##### Interpretation\n",
    "- Auf Abb1. ist deutlich zu sehen, dass es 7 Messstationen gibt an denen stark unterdurchschnittliche Werte gemessen werden. Nachbarmesswerte fangen erst ab dem ca. dreifachen Eigenwert an und so kann bei einer konservativen Einschätzung davon ausgegangen werden, dass Messtationen unter 2 fehlerhaft sind.\n",
    "- Auf Abb2. und Abb3 ist zu sehen, dass es bis 25 oder 30 eine relativ breite Verteilung an Messwerten gibt, deren Muster plausibel wirken. Sicherlich kann der oberste Punkt bei knapp 60 als Unzuverlässig eingestuft werden. Alle Punkte darunter sind jedoch bei einer konservativen Interpretation nicht eindeutig als Ausreißer zu erkennen.\n",
    "- Für die weiteren Berechnungen werden nur die Sensoren im Bereich 2 < x < 40 Berücksichtig.\n",
    "\n",
    "Im Nachfolgenden Schritt werden die Extremwerte entfernt"
   ]
  },
  {
   "cell_type": "code",
   "execution_count": 109,
   "metadata": {},
   "outputs": [
    {
     "data": {
      "image/png": "[encoded data removed]",
      "text/plain": [
       "<Figure size 432x288 with 1 Axes>"
      ]
     },
     "metadata": {
      "needs_background": "light"
     },
     "output_type": "display_data"
    }
   ],
   "source": [
    "#Create and apply a Mask to Remove those Sensors, that measure invalid\n",
    "clean_extremas = global_sensor_means[(global_sensor_means > 2) & (global_sensor_means < 40)]\n",
    "final_df_outliers_extrema = final_df_outliers[clean_extremas.index]\n",
    "\n",
    "#Calculate the Means to depict and verify the results\n",
    "final_df_outliers_extrema_means = final_df_outliers_extrema.mean().sort_values(ascending=True)\n",
    "plt.scatter(np.arange(len(final_df_outliers_extrema_means)), final_df_outliers_extrema_means)\n",
    "plt.ylim(2,40)\n",
    "plt.show()"
   ]
  },
  {
   "cell_type": "markdown",
   "metadata": {},
   "source": [
    "## Rekapitulation des Kapitels Daten - Aufbereitung\n",
    "- Zunächst wurden die aktuellen Daten von BLUME und OSeM eingeladen.\n",
    "- Anhand eines simplen Stundenmittelwert wurden die Daten erstmals verglichen\n",
    "- Anhand eines Stundenmittelwert Vergleichs über 24h wurden die Daten gegeneinander grafisch verglichen\n",
    "-- Ausreiser sowohl bei OSeM als auch bei BLUME wurden erkannt\n",
    "- Ausreiser bei BLUME werden akzeptiert, da die Daten von BLUME als Hochakurat eingestuft werden und lokale Maxima tatsächlich passieren können (Bsp: Silvester). Ein künstlicher Eingriff könnte die Gefahr einer Verunreinigung der Daten erhöhen und ist angesichts der absolut gesehen wenigen Maxima auch nicht nötig\n",
    "- Ausreiser bei der OSeM werden mittels des Hampel-Filters normalisiert. Anhand eines Beispielhaften Ausschnitts einer Messstation wurden versucht die richtigen Parameter zu finden. Mit diesen wurde dann der ganze Datensatz normalisiert.\n",
    "- Zudem wurden bei der OSeM Stationen entfernt, die im Durchschnitt deutlich andere Ergebnisse messen, als alle anderen Stationen. Mittels einer Grapishen Analyse wurden Ober- und Untergrenzen definiert welche außerhalb des statistisch erkannten Musters liegen, in dem Stationen üblicherweise Durchschnittswerte liefern."
   ]
  },
  {
   "cell_type": "markdown",
   "metadata": {},
   "source": [
    "## Neues Vergleichsmas: Lineare Regression\n",
    "Grafische Vergleiche und Diagramme helfen Muster zu erkennen und Daten schnell und einfach verstehen und vergleichen zu können. Manche Feinheiten und Ähnlichkeiten in den Daten können aber schneller und gründlicher mit der Linearen Regression erkannt werden. Insbesondere zum Vergleichen der Linearität der Daten von OSeM mit denen von BLUME eignet sich diese Berechnung. Die Daten der BLUME dienen hierbei als die unabhängige und die Daten von OSeM als abhängige Variable. Ein R²-Wert nahe 1 bedeutet, dass sich die Daten sehr ähnlich sind während ein kleiner R²-Wert einen großen Unterschied in den Daten bedeutet.\n",
    "\n",
    "$$x_{1,2} = {-b\\pm\\sqrt{b^2 - 4ac} \\over 2a}.$$\n",
    "\n",
    "$$A %  = {-b\\pm\\sqrt{b^2 - 4ac} \\over 2a}.$$\n",
    "\n",
    "Im folgenden wird der Versuch zum Eingang der Arbeit wiedrholt, an dem der komplette Datensatz eines Tages im Stündlichen Mittel verglichen wird und mittels linearer Regression verglichen. Zuerst werden die Daten vor der Bereinigung verglichen und dann dannach."
   ]
  },
  {
   "cell_type": "code",
   "execution_count": 118,
   "metadata": {},
   "outputs": [
    {
     "data": {
      "text/plain": [
       "<matplotlib.axes._subplots.AxesSubplot at 0x7f3ecee05cf8>"
      ]
     },
     "execution_count": 118,
     "metadata": {},
     "output_type": "execute_result"
    },
    {
     "data": {
      "image/png": "[encoded data removed]",
      "text/plain": [
       "<Figure size 432x288 with 1 Axes>"
      ]
     },
     "metadata": {},
     "output_type": "display_data"
    }
   ],
   "source": [
    "#Using right label because BLUME does the same... Be careful, don't mix up the periods\n",
    "#Calculate the Hourly Mean for every Sensor seperately\n",
    "hourly_sensors_preped = final_df_outliers_extrema.resample('60T', label='right').mean()\n",
    "#Calculate the Hourly Mean of all Sensors Berlin-Wide\n",
    "hourly_sensors_preped_mean = hourly_sensors.mean(axis=1)\n",
    "hourly_sensors_preped_mean.name = \"OSeM Preprocessed\"\n",
    "\n",
    "#Since we did not alter the BLUME data, we can reuse the one from the beginning\n",
    "#--hourly_blume_mean = blume_hourly.mean(axis=1)\n",
    "#--hourly_blume_mean.name=\"BLUME\"\n",
    "\n",
    "blume_vs_osem_hourly_preped = pd.concat([hourly_sensors_preped_mean, hourly_sensor_mean, hourly_blume_mean], axis=1)\n",
    "blume_vs_osem_hourly_preped.plot()"
   ]
  },
  {
   "cell_type": "code",
   "execution_count": 158,
   "metadata": {},
   "outputs": [
    {
     "name": "stdout",
     "output_type": "stream",
     "text": [
      "-0.3564685310545068\n",
      "1.0\n",
      "0.8345834535046958\n"
     ]
    }
   ],
   "source": [
    "print(r2_score(hourly_blume_mean, hourly_sensors_preped_mean))\n",
    "print(r2_score(hourly_blume_mean.values, hourly_blume_mean.values))\n",
    "print(r2_score(hourly_blume_mean.iloc[:8].values, hourly_sensors_preped_mean.iloc[:8].values))"
   ]
  },
  {
   "cell_type": "code",
   "execution_count": 180,
   "metadata": {},
   "outputs": [
    {
     "name": "stderr",
     "output_type": "stream",
     "text": [
      "/home/konstantin/.virtualenvs/Python_BA/lib/python3.6/site-packages/ipykernel_launcher.py:21: UserWarning: Matplotlib is currently using module://ipykernel.pylab.backend_inline, which is a non-GUI backend, so cannot show the figure.\n"
     ]
    },
    {
     "data": {
      "image/png": "[encoded data removed]",
      "text/plain": [
       "<Figure size 1080x360 with 2 Axes>"
      ]
     },
     "metadata": {},
     "output_type": "display_data"
    }
   ],
   "source": [
    "f, (ax1, ax2) = plt.subplots(1, 2, figsize=(15,5))\n",
    "#Plot Lower Bounds\n",
    "x = np.arange(len(hourly_blume_mean.iloc[:9].index))\n",
    "y_pred = hourly_sensors_preped_mean.iloc[:9].values\n",
    "y_real = hourly_blume_mean.iloc[:9].values\n",
    "r2_zoom = r2_score(y_real, y_pred)\n",
    "ax1.scatter(x, y_pred)\n",
    "ax1.plot(x, y_real*r2_zoom)\n",
    "ax1.set_xlabel('Jeder einezelne Sensor aufsteigend nummeriert')\n",
    "ax1.set_ylabel('PM10 Mess-Mittel')\n",
    "ax1.set_title('Minima der Messwerte')\n",
    "#Plot Middle-High Bounds\n",
    "r2_big = r2_score(hourly_blume_mean, hourly_sensors_preped_mean)\n",
    "ax2.scatter(np.arange(len(hourly_blume_mean.index)), hourly_sensors_preped_mean.values)\n",
    "ax2.plot(np.arange(len(hourly_blume_mean.index)), hourly_sensors_preped_mean * r2_big)\n",
    "\n",
    "#sns.regplot(np.arange(len(hourly_blume_mean.index)), hourly_sensors_preped_mean.values, ci=None, ax=ax2)\n",
    "ax2.set_title('Mittleres Maxima der Messwerte')\n",
    "\n",
    "\n",
    "f.show()"
   ]
  },
  {
   "cell_type": "code",
   "execution_count": 166,
   "metadata": {},
   "outputs": [
    {
     "data": {
      "image/png": "[encoded data removed]",
      "text/plain": [
       "<Figure size 432x288 with 1 Axes>"
      ]
     },
     "metadata": {},
     "output_type": "display_data"
    }
   ],
   "source": [
    "sns.set_style('ticks')\n",
    "sns.regplot(np.arange(len(hourly_blume_mean.iloc[:8].index)), hourly_sensors_preped_mean.iloc[:8].values, ci=None)\n",
    "sns.despine()  "
   ]
  },
  {
   "cell_type": "code",
   "execution_count": null,
   "metadata": {},
   "outputs": [],
   "source": []
  }
 ],
 "metadata": {
  "kernelspec": {
   "display_name": "Python3.6_BA (Python_BA)",
   "language": "python",
   "name": "python_ba"
  },
  "language_info": {
   "codemirror_mode": {
    "name": "ipython",
    "version": 3
   },
   "file_extension": ".py",
   "mimetype": "text/x-python",
   "name": "python",
   "nbconvert_exporter": "python",
   "pygments_lexer": "ipython3",
   "version": "3.6.8"
  },
  "pycharm": {
   "stem_cell": {
    "cell_type": "raw",
    "source": [],
    "metadata": {
     "collapsed": false
    }
   }
  }
 },
 "nbformat": 4,
 "nbformat_minor": 2
}