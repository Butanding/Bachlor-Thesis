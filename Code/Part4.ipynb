{
 "cells": [
  {
   "cell_type": "code",
   "execution_count": 858,
   "metadata": {},
   "outputs": [],
   "source": [
    "import json\n",
    "import sys, os\n",
    "import glob\n",
    "import logging\n",
    "logging.getLogger().setLevel(logging.CRITICAL)\n",
    "\n",
    "from requests import Session, Request\n",
    "from datetime import datetime, date, time, timedelta, timezone\n",
    "from posixpath import join as urljoin\n",
    "import pandas as pd\n",
    "import io\n",
    "from blume import client, station, measurements\n",
    "from blume.station import Station\n",
    "from sensemapi import client as sense_client\n",
    "import numpy as np\n",
    "#import seaborn as sns\n",
    "import matplotlib.pyplot as plt\n",
    "\n",
    "from sklearn import preprocessing, svm \n",
    "from sklearn.model_selection import train_test_split \n",
    "from sklearn.linear_model import LinearRegression\n",
    "from sklearn.metrics import r2_score\n",
    "\n",
    "import pytz\n",
    "cet = pytz.timezone('CET')\n",
    "\n",
    "# set the graphs to show in the jupyter notebook\n",
    "%matplotlib inline\n",
    "\n",
    "# set seaborn style to white\n",
    "#sns.set_style(\"white\")\n",
    "\n",
    "from IPython.display import display, HTML"
   ]
  },
  {
   "cell_type": "code",
   "execution_count": 859,
   "metadata": {},
   "outputs": [],
   "source": [
    "logging.getLogger().setLevel(logging.INFO)"
   ]
  },
  {
   "cell_type": "code",
   "execution_count": 860,
   "metadata": {},
   "outputs": [],
   "source": [
    "def load_data(phenomenon, interval):\n",
    "    filename = \"ressources/{}_Measurments_Berlin_{}.cvs\".format(phenomenon, interval)\n",
    "    try:\n",
    "        data = pd.read_csv(filename, index_col=0, parse_dates=True)\n",
    "        data.sort_index(inplace=True)\n",
    "    except FileNotFoundError:\n",
    "        logging.warning(\"Could not find File {}, Returning Empty Dataframe instead\".format(filename))                \n",
    "        data = pd.DataFrame()\n",
    "    return data"
   ]
  },
  {
   "cell_type": "code",
   "execution_count": 861,
   "metadata": {},
   "outputs": [],
   "source": [
    "def investigate_stats(df):\n",
    "    total = df.shape[0]*df.shape[1]\n",
    "    notnull = df.notnull().sum().sum()\n",
    "    isnull = df.isnull().sum().sum()\n",
    "    print(\"General Shape (Hours x Sensors) = {}\".format(df.shape))\n",
    "    print(\"Non-NaN Values = {} from {} equals {}%\".format(notnull, total, round((notnull/total)*100)))\n",
    "    print(\"NaN Values = {} from {} equals {}%\".format(isnull, total, round((isnull/total)*100)))"
   ]
  },
  {
   "cell_type": "code",
   "execution_count": 862,
   "metadata": {},
   "outputs": [],
   "source": [
    "def ind_sensor_lookup(df, precision=70):\n",
    "    total = df.shape[0]\n",
    "    threshold = (total/100)*precision\n",
    "    good_sensors = (df.notnull().sum().sort_values(ascending=False) > 1000).sum()\n",
    "    print(\"Sensors that measured more than {}% of the Time according to the Conditional Remove = {} from {}\".format(precision, good_sensors, df.shape[1]))"
   ]
  },
  {
   "cell_type": "markdown",
   "metadata": {},
   "source": [
    "## Konzept/Plan\n",
    "1. Lade Daten und bereinige diese von eventuel übrig gebliebenen Fehlerhaften Columns/Rows\n",
    "2. Kürze den Titel der PM10/Feuchte/Temperatur Titel auf den Uniqen SenseBox-Teil\n",
    "3. Merge Join des Datensatzes auf Rows\n",
    "4. Merge Join des Datensatzes auf Columns\n",
    "5. Merge Join des Datensatzes auf jeden einzelnen Messwert\n",
    "6. Setze Treshold für Temp/Feuchte und wende diesen auf PM10 Messwerte an\n",
    "7. Untersuche das Ergebniss\n",
    "\n",
    "\n",
    "Join Strategien der Datensätze:\n",
    "\n",
    "1. PM10 x Temperatur\n",
    "2. PM10 x Feuchte\n",
    "3. PM10 x Temperatur x Feuchte\n",
    "\n",
    "Threshold Strategien der Datensätze:\n",
    "\n",
    "1. Untersuche welche Threshold Höhe welche Auswirkungen auf die Daten hat\n",
    "2. Untersuche, wieviele Sensoren zuverlässig und genügend Messwerte für den Betrachtungszeitraum liefern\n",
    "3. Setze Limit für die minimale Messabdeckung eines Sensors im Betrachtungszeitraum\n",
    "4. Finalen Datensatz speichern"
   ]
  },
  {
   "cell_type": "markdown",
   "metadata": {},
   "source": [
    "Load Datasets and drop possible duplicates immediately"
   ]
  },
  {
   "cell_type": "code",
   "execution_count": 863,
   "metadata": {},
   "outputs": [],
   "source": [
    "df_osem_pm10 = load_data(\"PM10\", \"Hours\")\n",
    "df_osem_pm10 = df_osem_pm10.loc[~df_osem_pm10.index.duplicated(keep='first')]\n",
    "df_osem_feuchte = load_data(\"rel. Luftfeuchte\", \"Hours\")\n",
    "df_osem_feuchte = df_osem_feuchte.loc[~df_osem_feuchte.index.duplicated(keep='first')]\n",
    "df_osem_temp = load_data(\"Temperatur\", \"Hours\")\n",
    "df_osem_temp = df_osem_temp.loc[~df_osem_temp.index.duplicated(keep='first')]"
   ]
  },
  {
   "cell_type": "code",
   "execution_count": 864,
   "metadata": {
    "scrolled": true
   },
   "outputs": [
    {
     "name": "stdout",
     "output_type": "stream",
     "text": [
      "Sensors that measured more than 70% of the Time according to the Conditional Remove = 81 from 131\n",
      "Sensors that measured more than 70% of the Time according to the Conditional Remove = 84 from 146\n",
      "Sensors that measured more than 70% of the Time according to the Conditional Remove = 87 from 149\n"
     ]
    }
   ],
   "source": [
    "ind_sensor_lookup(df_osem_pm10)\n",
    "ind_sensor_lookup(df_osem_feuchte)\n",
    "ind_sensor_lookup(df_osem_temp)"
   ]
  },
  {
   "cell_type": "code",
   "execution_count": 865,
   "metadata": {
    "scrolled": false
   },
   "outputs": [
    {
     "name": "stdout",
     "output_type": "stream",
     "text": [
      "------ PM10 Stats ------\n",
      "General Shape (Hours x Sensors) = (1344, 131)\n",
      "Non-NaN Values = 122445 from 176064 equals 70.0%\n",
      "NaN Values = 53619 from 176064 equals 30.0%\n",
      "------ Feuchte Stats ------\n",
      "General Shape (Hours x Sensors) = (1441, 146)\n",
      "Non-NaN Values = 132632 from 210386 equals 63.0%\n",
      "NaN Values = 77754 from 210386 equals 37.0%\n",
      "------ Temp Stats ------\n",
      "General Shape (Hours x Sensors) = (1441, 149)\n",
      "Non-NaN Values = 136312 from 214709 equals 63.0%\n",
      "NaN Values = 78397 from 214709 equals 37.0%\n"
     ]
    }
   ],
   "source": [
    "print(\"------ PM10 Stats ------\")\n",
    "investigate_stats(df_osem_pm10)\n",
    "print(\"------ Feuchte Stats ------\")\n",
    "investigate_stats(df_osem_feuchte)\n",
    "print(\"------ Temp Stats ------\")\n",
    "investigate_stats(df_osem_temp)"
   ]
  },
  {
   "cell_type": "markdown",
   "metadata": {},
   "source": [
    "Kürze den Header aller Sensor-DF auf den Uniqen SenseBox Part"
   ]
  },
  {
   "cell_type": "code",
   "execution_count": 866,
   "metadata": {},
   "outputs": [],
   "source": [
    "df_osem_pm10.columns = df_osem_pm10.columns.map(lambda x: x[:22])\n",
    "df_osem_feuchte.columns = df_osem_feuchte.columns.map(lambda x: x[:22])\n",
    "df_osem_temp.columns = df_osem_temp.columns.map(lambda x: x[:22])"
   ]
  },
  {
   "cell_type": "markdown",
   "metadata": {},
   "source": [
    "Joine die DFs auf SenseBox-IDs. Es bleiben nur noch Sensoren die in beiden DFs vorhanden sind"
   ]
  },
  {
   "cell_type": "code",
   "execution_count": 867,
   "metadata": {},
   "outputs": [],
   "source": [
    "inter_feuchteXpm10 = df_osem_feuchte.columns.intersection(df_osem_pm10.columns)\n",
    "feuchteXpm10 = df_osem_feuchte.loc[:, inter_feuchteXpm10]\n",
    "pm10Xfeuchte = df_osem_pm10.loc[:, inter_feuchteXpm10]\n",
    "\n",
    "inter_tempXpm10 = df_osem_temp.columns.intersection(df_osem_pm10.columns)\n",
    "tempXpm10 = df_osem_temp.loc[:, inter_tempXpm10]\n",
    "pm10Xtemp = df_osem_pm10.loc[:, inter_tempXpm10]\n",
    "\n",
    "inter_pm10XfeuchteXtemp = pm10Xfeuchte.columns.intersection(pm10Xtemp.columns)\n",
    "pm10XfeuchteXtemp = df_osem_pm10.loc[:, inter_pm10XfeuchteXtemp]\n",
    "feuchteXtempXpm10 = df_osem_feuchte.loc[:, inter_pm10XfeuchteXtemp]\n",
    "tempXfeuchteXpm10 = df_osem_temp.loc[:, inter_pm10XfeuchteXtemp]"
   ]
  },
  {
   "cell_type": "code",
   "execution_count": 868,
   "metadata": {
    "scrolled": false
   },
   "outputs": [
    {
     "name": "stdout",
     "output_type": "stream",
     "text": [
      "------ PM10xFeuchte Stats ------\n",
      "General Shape (Hours x Sensors) = (1344, 114)\n",
      "Non-NaN Values = 105941 from 153216 equals 69.0%\n",
      "NaN Values = 47275 from 153216 equals 31.0%\n",
      "------ FeuchteXpm10 Stats ------\n",
      "General Shape (Hours x Sensors) = (1441, 114)\n",
      "Non-NaN Values = 111188 from 164274 equals 68.0%\n",
      "NaN Values = 53086 from 164274 equals 32.0%\n",
      "############################################\n",
      "------ PM10xTemp Stats ------\n",
      "General Shape (Hours x Sensors) = (1344, 115)\n",
      "Non-NaN Values = 107279 from 154560 equals 69.0%\n",
      "NaN Values = 47281 from 154560 equals 31.0%\n",
      "------ TempXpm10 Stats ------\n",
      "General Shape (Hours x Sensors) = (1441, 115)\n",
      "Non-NaN Values = 112623 from 165715 equals 68.0%\n",
      "NaN Values = 53092 from 165715 equals 32.0%\n",
      "############################################\n",
      "------ PM10xTempxFeuchte Stats ------\n",
      "General Shape (Hours x Sensors) = (1344, 114)\n",
      "Non-NaN Values = 105941 from 153216 equals 69.0%\n",
      "NaN Values = 47275 from 153216 equals 31.0%\n",
      "------ feuchteXtempXpm10 Stats ------\n",
      "General Shape (Hours x Sensors) = (1441, 114)\n",
      "Non-NaN Values = 111188 from 164274 equals 68.0%\n",
      "NaN Values = 53086 from 164274 equals 32.0%\n",
      "------ tempXfeuchteXpm10 Stats ------\n",
      "General Shape (Hours x Sensors) = (1441, 114)\n",
      "Non-NaN Values = 111189 from 164274 equals 68.0%\n",
      "NaN Values = 53085 from 164274 equals 32.0%\n"
     ]
    }
   ],
   "source": [
    "print(\"------ PM10xFeuchte Stats ------\")\n",
    "investigate_stats(pm10Xfeuchte)\n",
    "print(\"------ FeuchteXpm10 Stats ------\")\n",
    "investigate_stats(feuchteXpm10)\n",
    "print(\"############################################\")\n",
    "print(\"------ PM10xTemp Stats ------\")\n",
    "investigate_stats(pm10Xtemp)\n",
    "print(\"------ TempXpm10 Stats ------\")\n",
    "investigate_stats(tempXpm10)\n",
    "print(\"############################################\")\n",
    "print(\"------ PM10xTempxFeuchte Stats ------\")\n",
    "investigate_stats(pm10XfeuchteXtemp)\n",
    "print(\"------ feuchteXtempXpm10 Stats ------\")\n",
    "investigate_stats(feuchteXtempXpm10)\n",
    "print(\"------ tempXfeuchteXpm10 Stats ------\")\n",
    "investigate_stats(tempXfeuchteXpm10)"
   ]
  },
  {
   "cell_type": "markdown",
   "metadata": {},
   "source": [
    "Wiederhole den Vorgang, aber jetzt auf die Indexe, also die Zeitachse. Dannach sind nur noch gleiche SenseBoxen die zur gleichen Zeit beides gemessen haben dabei."
   ]
  },
  {
   "cell_type": "code",
   "execution_count": 869,
   "metadata": {},
   "outputs": [],
   "source": [
    "inter_feuchteXpm10 = df_osem_feuchte.index.intersection(df_osem_pm10.index)\n",
    "inter_tempXpm10 = df_osem_temp.index.intersection(df_osem_pm10.index)\n",
    "\n",
    "feuchteXpm10 = feuchteXpm10.loc[inter_feuchteXpm10]\n",
    "pm10Xfeuchte = pm10Xfeuchte.loc[inter_feuchteXpm10]\n",
    "\n",
    "tempXpm10 = tempXpm10.loc[inter_tempXpm10]\n",
    "pm10Xtemp = pm10Xtemp.loc[inter_tempXpm10]\n",
    "\n",
    "\n",
    "inter_pm10XfeuchteXtemp = pm10Xfeuchte.index.intersection(pm10Xtemp.index)\n",
    "\n",
    "pm10XfeuchteXtemp = pm10XfeuchteXtemp.loc[inter_pm10XfeuchteXtemp]\n",
    "feuchteXtempXpm10 = feuchteXtempXpm10.loc[inter_pm10XfeuchteXtemp]\n",
    "tempXfeuchteXpm10 = tempXfeuchteXpm10.loc[inter_pm10XfeuchteXtemp]"
   ]
  },
  {
   "cell_type": "code",
   "execution_count": 870,
   "metadata": {
    "scrolled": true
   },
   "outputs": [
    {
     "name": "stdout",
     "output_type": "stream",
     "text": [
      "------ PM10xFeuchte Stats ------\n",
      "General Shape (Hours x Sensors) = (1344, 114)\n",
      "Non-NaN Values = 105941 from 153216 equals 69.0%\n",
      "NaN Values = 47275 from 153216 equals 31.0%\n",
      "------ FeuchteXpm10 Stats ------\n",
      "General Shape (Hours x Sensors) = (1344, 114)\n",
      "Non-NaN Values = 103563 from 153216 equals 68.0%\n",
      "NaN Values = 49653 from 153216 equals 32.0%\n",
      "############################################\n",
      "------ PM10xTemp Stats ------\n",
      "General Shape (Hours x Sensors) = (1344, 115)\n",
      "Non-NaN Values = 107279 from 154560 equals 69.0%\n",
      "NaN Values = 47281 from 154560 equals 31.0%\n",
      "------ TempXpm10 Stats ------\n",
      "General Shape (Hours x Sensors) = (1344, 115)\n",
      "Non-NaN Values = 104901 from 154560 equals 68.0%\n",
      "NaN Values = 49659 from 154560 equals 32.0%\n",
      "############################################\n",
      "------ PM10xTempxFeuchte Stats ------\n",
      "General Shape (Hours x Sensors) = (1344, 114)\n",
      "Non-NaN Values = 105941 from 153216 equals 69.0%\n",
      "NaN Values = 47275 from 153216 equals 31.0%\n",
      "------ feuchteXtempXpm10 Stats ------\n",
      "General Shape (Hours x Sensors) = (1344, 114)\n",
      "Non-NaN Values = 103563 from 153216 equals 68.0%\n",
      "NaN Values = 49653 from 153216 equals 32.0%\n",
      "------ tempXfeuchteXpm10 Stats ------\n",
      "General Shape (Hours x Sensors) = (1344, 114)\n",
      "Non-NaN Values = 103564 from 153216 equals 68.0%\n",
      "NaN Values = 49652 from 153216 equals 32.0%\n"
     ]
    }
   ],
   "source": [
    "print(\"------ PM10xFeuchte Stats ------\")\n",
    "investigate_stats(pm10Xfeuchte)\n",
    "print(\"------ FeuchteXpm10 Stats ------\")\n",
    "investigate_stats(feuchteXpm10)\n",
    "print(\"############################################\")\n",
    "print(\"------ PM10xTemp Stats ------\")\n",
    "investigate_stats(pm10Xtemp)\n",
    "print(\"------ TempXpm10 Stats ------\")\n",
    "investigate_stats(tempXpm10)\n",
    "print(\"############################################\")\n",
    "print(\"------ PM10xTempxFeuchte Stats ------\")\n",
    "investigate_stats(pm10XfeuchteXtemp)\n",
    "print(\"------ feuchteXtempXpm10 Stats ------\")\n",
    "investigate_stats(feuchteXtempXpm10)\n",
    "print(\"------ tempXfeuchteXpm10 Stats ------\")\n",
    "investigate_stats(tempXfeuchteXpm10)"
   ]
  },
  {
   "cell_type": "markdown",
   "metadata": {},
   "source": [
    "Dot-Operation with Boolean Matrix on isnull Values.\n",
    "Nur wenn zur gleichen Stunde, zum gleichen Sensor aus beiden Datensätzen (Temp/PM10) ein Wert vorliegt, behalte diesen Wert. Ansonsten setze den Wert als NaN = Ungültig."
   ]
  },
  {
   "cell_type": "code",
   "execution_count": 871,
   "metadata": {},
   "outputs": [],
   "source": [
    "feuchteXpm10[feuchteXpm10.isnull() != pm10Xfeuchte.isnull()] = np.nan\n",
    "pm10Xfeuchte[feuchteXpm10.isnull() != pm10Xfeuchte.isnull()] = np.nan\n",
    "\n",
    "tempXpm10[tempXpm10.isnull() != pm10Xtemp.isnull()] = np.nan\n",
    "pm10Xtemp[tempXpm10.isnull() != pm10Xtemp.isnull()] = np.nan\n",
    "\n",
    "pm10XfeuchteXtemp[(pm10XfeuchteXtemp.isnull() != (tempXfeuchteXpm10.isnull() | feuchteXtempXpm10.isnull()))] = np.nan\n",
    "tempXfeuchteXpm10[(tempXfeuchteXpm10.isnull() != (pm10XfeuchteXtemp.isnull() | feuchteXtempXpm10.isnull()))] = np.nan\n",
    "feuchteXtempXpm10[(feuchteXtempXpm10.isnull() != (pm10XfeuchteXtemp.isnull() | tempXfeuchteXpm10.isnull()))] = np.nan\n"
   ]
  },
  {
   "cell_type": "code",
   "execution_count": 872,
   "metadata": {},
   "outputs": [
    {
     "name": "stdout",
     "output_type": "stream",
     "text": [
      "------ PM10xFeuchte Stats ------\n",
      "General Shape (Hours x Sensors) = (1344, 114)\n",
      "Non-NaN Values = 102029 from 153216 equals 67.0%\n",
      "NaN Values = 51187 from 153216 equals 33.0%\n",
      "------ FeuchteXpm10 Stats ------\n",
      "General Shape (Hours x Sensors) = (1344, 114)\n",
      "Non-NaN Values = 102029 from 153216 equals 67.0%\n",
      "NaN Values = 51187 from 153216 equals 33.0%\n",
      "############################################\n",
      "------ PM10xTemp Stats ------\n",
      "General Shape (Hours x Sensors) = (1344, 115)\n",
      "Non-NaN Values = 103366 from 154560 equals 67.0%\n",
      "NaN Values = 51194 from 154560 equals 33.0%\n",
      "------ TempXpm10 Stats ------\n",
      "General Shape (Hours x Sensors) = (1344, 115)\n",
      "Non-NaN Values = 103366 from 154560 equals 67.0%\n",
      "NaN Values = 51194 from 154560 equals 33.0%\n",
      "############################################\n",
      "------ PM10xTempxFeuchte Stats ------\n",
      "General Shape (Hours x Sensors) = (1344, 114)\n",
      "Non-NaN Values = 102029 from 153216 equals 67.0%\n",
      "NaN Values = 51187 from 153216 equals 33.0%\n",
      "------ feuchteXtempXpm10 Stats ------\n",
      "General Shape (Hours x Sensors) = (1344, 114)\n",
      "Non-NaN Values = 102029 from 153216 equals 67.0%\n",
      "NaN Values = 51187 from 153216 equals 33.0%\n",
      "------ tempXfeuchteXpm10 Stats ------\n",
      "General Shape (Hours x Sensors) = (1344, 114)\n",
      "Non-NaN Values = 102029 from 153216 equals 67.0%\n",
      "NaN Values = 51187 from 153216 equals 33.0%\n"
     ]
    }
   ],
   "source": [
    "print(\"------ PM10xFeuchte Stats ------\")\n",
    "investigate_stats(pm10Xfeuchte)\n",
    "print(\"------ FeuchteXpm10 Stats ------\")\n",
    "investigate_stats(feuchteXpm10)\n",
    "print(\"############################################\")\n",
    "print(\"------ PM10xTemp Stats ------\")\n",
    "investigate_stats(pm10Xtemp)\n",
    "print(\"------ TempXpm10 Stats ------\")\n",
    "investigate_stats(tempXpm10)\n",
    "print(\"############################################\")\n",
    "print(\"------ PM10xTempxFeuchte Stats ------\")\n",
    "investigate_stats(pm10XfeuchteXtemp)\n",
    "print(\"------ feuchteXtempXpm10 Stats ------\")\n",
    "investigate_stats(feuchteXtempXpm10)\n",
    "print(\"------ tempXfeuchteXpm10 Stats ------\")\n",
    "investigate_stats(tempXfeuchteXpm10)"
   ]
  },
  {
   "cell_type": "markdown",
   "metadata": {},
   "source": [
    "Erstelle eine MAtrix, in der nur PM10 Messwerte enthalten sind, bei denen zur gleichen Zeit der andere Sensor (Temp oder Feuchte) einen bestimmten Grenzwert nicht überschritten hat (z.B. max. 70% r.F. oder max. 30 Grad)"
   ]
  },
  {
   "cell_type": "markdown",
   "metadata": {},
   "source": [
    "Versuche in großem Maßsstab: Berechne, wieviele Sensor-Messwerte rausfallen, wenn wir alle Feuchte < 70 raushauen"
   ]
  },
  {
   "cell_type": "code",
   "execution_count": 873,
   "metadata": {},
   "outputs": [],
   "source": [
    "#For better Visualisation, cut off Dataset here\n",
    "test_pm10Xtemp = pm10Xtemp.iloc[:, :]\n",
    "test_tempXpm10 = tempXpm10.iloc[:, :]\n",
    "\n",
    "test_pm10Xfeuchte = pm10Xfeuchte.iloc[:, :]\n",
    "test_feuchteXpm10 = feuchteXpm10.iloc[:, :]\n",
    "#display(test_feuchte)\n",
    "#display(test_pm10)\n",
    "\n",
    "test_pm10XfeuchteXtemp = pm10XfeuchteXtemp.iloc[:, :]\n",
    "test_feuchteXtempXpm10 = feuchteXtempXpm10.iloc[:, :]\n",
    "test_tempXfeuchteXpm10 = tempXfeuchteXpm10.iloc[:, :]"
   ]
  },
  {
   "cell_type": "code",
   "execution_count": 874,
   "metadata": {},
   "outputs": [],
   "source": [
    "#set threshold for Feuchte\n",
    "temp_thresh = 3\n",
    "feuchte_tresh = 80"
   ]
  },
  {
   "cell_type": "code",
   "execution_count": 887,
   "metadata": {},
   "outputs": [
    {
     "name": "stdout",
     "output_type": "stream",
     "text": [
      "------ PM10 Stats cut BELOW <= Temp Threshold 3°C ------\n",
      "General Shape (Hours x Sensors) = (1344, 115)\n",
      "Non-NaN Values = 15183 from 154560 equals 10.0%\n",
      "NaN Values = 139377 from 154560 equals 90.0%\n",
      "------ PM10 Stats cut ABOVE >  Temp Threshold 3°C ------\n",
      "General Shape (Hours x Sensors) = (1344, 115)\n",
      "Non-NaN Values = 88183 from 154560 equals 57.0%\n",
      "NaN Values = 66377 from 154560 equals 43.0%\n",
      "############################################\n",
      "------ PM10 Stats cut BELOW <= Feuchte Threshold 80%------\n",
      "General Shape (Hours x Sensors) = (1344, 114)\n",
      "Non-NaN Values = 30441 from 153216 equals 20.0%\n",
      "NaN Values = 122775 from 153216 equals 80.0%\n",
      "------ PM10 Stats cut ABOVE >  Feuchte Threshold 80% ------\n",
      "General Shape (Hours x Sensors) = (1344, 114)\n",
      "Non-NaN Values = 71588 from 153216 equals 47.0%\n",
      "NaN Values = 81628 from 153216 equals 53.0%\n",
      "############################################\n",
      "------ PM10 Stats cut BELOW <= Feuchte Threshold 80% AND <= Temp Threshold 3°C------\n",
      "General Shape (Hours x Sensors) = (1344, 114)\n",
      "Non-NaN Values = 2440 from 153216 equals 2.0%\n",
      "NaN Values = 150776 from 153216 equals 98.0%\n",
      "------ PM10 Stats cut ABOVE > Feuchte Threshold 80% AND > Temp Threshold 3°C------\n",
      "General Shape (Hours x Sensors) = (1344, 114)\n",
      "Non-NaN Values = 58845 from 153216 equals 38.0%\n",
      "NaN Values = 94371 from 153216 equals 62.0%\n"
     ]
    }
   ],
   "source": [
    "print(\"------ PM10 Stats cut BELOW <= Temp Threshold {}°C ------\".format(temp_thresh))\n",
    "investigate_stats(test_pm10Xtemp[test_tempXpm10<=temp_thresh])\n",
    "print(\"------ PM10 Stats cut ABOVE >  Temp Threshold {}°C ------\".format(temp_thresh))\n",
    "investigate_stats(test_pm10Xtemp[test_tempXpm10>temp_thresh])\n",
    "print(\"############################################\")\n",
    "print(\"------ PM10 Stats cut BELOW <= Feuchte Threshold {}%------\".format(feuchte_tresh))\n",
    "investigate_stats(test_pm10Xfeuchte[test_feuchteXpm10<=feuchte_tresh])\n",
    "print(\"------ PM10 Stats cut ABOVE >  Feuchte Threshold {}% ------\".format(feuchte_tresh))\n",
    "investigate_stats(test_pm10Xfeuchte[test_feuchteXpm10>feuchte_tresh])\n",
    "print(\"############################################\")\n",
    "print(\"------ PM10 Stats cut BELOW <= Feuchte Threshold {}% AND <= Temp Threshold {}°C------\".format(feuchte_tresh, temp_thresh))\n",
    "below_mask = (test_feuchteXtempXpm10<=feuchte_tresh) & (test_tempXfeuchteXpm10<=temp_thresh)\n",
    "investigate_stats(test_pm10XfeuchteXtemp[below_mask])\n",
    "print(\"------ PM10 Stats cut ABOVE > Feuchte Threshold {}% AND > Temp Threshold {}°C------\".format(feuchte_tresh, temp_thresh))\n",
    "above_mask = (test_feuchteXtempXpm10>feuchte_tresh) & (test_tempXfeuchteXpm10>temp_thresh)\n",
    "investigate_stats(test_pm10XfeuchteXtemp[above_mask])\n"
   ]
  },
  {
   "cell_type": "code",
   "execution_count": 888,
   "metadata": {},
   "outputs": [
    {
     "name": "stdout",
     "output_type": "stream",
     "text": [
      "------ PM10 Stats cut BELOW <= Temp Threshold 3°C ------\n",
      "Sensors that measured more than 70% of the Time according to the Conditional Remove = 0 from 115\n",
      "------ PM10 Stats cut ABOVE >  Temp Threshold 3°C ------\n",
      "Sensors that measured more than 70% of the Time according to the Conditional Remove = 50 from 115\n",
      "############################################\n",
      "------ PM10 Stats cut BELOW <= Feuchte Threshold 80%------\n",
      "Sensors that measured more than 70% of the Time according to the Conditional Remove = 10 from 114\n",
      "------ PM10 Stats cut ABOVE >  Feuchte Threshold 80% ------\n",
      "Sensors that measured more than 70% of the Time according to the Conditional Remove = 37 from 114\n",
      "############################################\n",
      "------ PM10 Stats cut BELOW <= Feuchte Threshold 80% AND <= Temp Threshold 3°C------\n",
      "Sensors that measured more than 70% of the Time according to the Conditional Remove = 0 from 114\n",
      "------ PM10 Stats cut ABOVE > Feuchte Threshold 80% AND > Temp Threshold 3°C------\n",
      "Sensors that measured more than 70% of the Time according to the Conditional Remove = 18 from 114\n"
     ]
    }
   ],
   "source": [
    "print(\"------ PM10 Stats cut BELOW <= Temp Threshold {}°C ------\".format(temp_thresh))\n",
    "ind_sensor_lookup(test_pm10Xtemp[test_tempXpm10<=temp_thresh])\n",
    "print(\"------ PM10 Stats cut ABOVE >  Temp Threshold {}°C ------\".format(temp_thresh))\n",
    "ind_sensor_lookup(test_pm10Xtemp[test_tempXpm10>temp_thresh])\n",
    "print(\"############################################\")\n",
    "print(\"------ PM10 Stats cut BELOW <= Feuchte Threshold {}%------\".format(feuchte_tresh))\n",
    "ind_sensor_lookup(test_pm10Xfeuchte[test_feuchteXpm10<=feuchte_tresh])\n",
    "print(\"------ PM10 Stats cut ABOVE >  Feuchte Threshold {}% ------\".format(feuchte_tresh))\n",
    "ind_sensor_lookup(test_pm10Xfeuchte[test_feuchteXpm10>feuchte_tresh])\n",
    "print(\"############################################\")\n",
    "print(\"------ PM10 Stats cut BELOW <= Feuchte Threshold {}% AND <= Temp Threshold {}°C------\".format(feuchte_tresh, temp_thresh))\n",
    "ind_sensor_lookup(test_pm10Xfeuchte[below_mask])\n",
    "print(\"------ PM10 Stats cut ABOVE > Feuchte Threshold {}% AND > Temp Threshold {}°C------\".format(feuchte_tresh, temp_thresh))\n",
    "ind_sensor_lookup(test_pm10Xfeuchte[above_mask])"
   ]
  },
  {
   "cell_type": "code",
   "execution_count": 889,
   "metadata": {},
   "outputs": [],
   "source": [
    "pm10Xtemp.to_csv(\"ressources/intersections/pm10Xtemp.cvs\")\n",
    "tempXpm10.to_csv(\"ressources/intersections/tempXpm10.cvs\")\n",
    "\n",
    "pm10Xfeuchte.to_csv(\"ressources/intersections/pm10Xfeuchte.cvs\")\n",
    "feuchteXpm10.to_csv(\"ressources/intersections/feuchteXpm10.cvs\")\n",
    "\n",
    "pm10XfeuchteXtemp.to_csv(\"ressources/intersections/pm10XfeuchteXtemp.cvs\")\n",
    "feuchteXtempXpm10.to_csv(\"ressources/intersections/feuchteXtempXpm10.cvs\")\n",
    "tempXfeuchteXpm10.to_csv(\"ressources/intersections/tempXfeuchteXpm10.cvs\")"
   ]
  },
  {
   "cell_type": "code",
   "execution_count": null,
   "metadata": {},
   "outputs": [],
   "source": []
  }
 ],
 "metadata": {
  "kernelspec": {
   "display_name": "Python3.6_BA (Python_BA)",
   "language": "python",
   "name": "python_ba"
  },
  "language_info": {
   "codemirror_mode": {
    "name": "ipython",
    "version": 3
   },
   "file_extension": ".py",
   "mimetype": "text/x-python",
   "name": "python",
   "nbconvert_exporter": "python",
   "pygments_lexer": "ipython3",
   "version": "3.6.8"
  }
 },
 "nbformat": 4,
 "nbformat_minor": 2
}
