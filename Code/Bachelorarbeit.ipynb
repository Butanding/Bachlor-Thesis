{
 "cells": [
  {
   "cell_type": "code",
   "execution_count": 13,
   "metadata": {
    "pycharm": {
     "is_executing": false
    }
   },
   "outputs": [],
   "source": []
  },
  {
   "cell_type": "code",
   "execution_count": 16,
   "metadata": {
    "pycharm": {
     "is_executing": false
    }
   },
   "outputs": [],
   "source": [
    "import json\n",
    "from requests import Session, Request\n",
    "from datetime import datetime, date, time, timedelta\n",
    "from posixpath import join as urljoin\n",
    "import pandas as pd\n",
    "import io\n",
    "from blume import client, station, measurements\n",
    "from blume.station import Station"
   ]
  },
  {
   "cell_type": "code",
   "execution_count": 14,
   "metadata": {
    "pycharm": {
     "is_executing": false
    }
   },
   "outputs": [],
   "source": []
  },
  {
   "cell_type": "code",
   "execution_count": 22,
   "metadata": {
    "pycharm": {
     "is_executing": false,
     "name": "#%%\n"
    }
   },
   "outputs": [
    {
     "traceback": [
      "\u001b[0;31m---------------------------------------------------------------------------\u001b[0m",
      "\u001b[0;31mAttributeError\u001b[0m                            Traceback (most recent call last)",
      "\u001b[0;32m<ipython-input-22-49266cc7f537>\u001b[0m in \u001b[0;36m<module>\u001b[0;34m\u001b[0m\n\u001b[1;32m     13\u001b[0m \u001b[0;31m#read measurement of a specific station\u001b[0m\u001b[0;34m\u001b[0m\u001b[0;34m\u001b[0m\u001b[0;34m\u001b[0m\u001b[0m\n\u001b[1;32m     14\u001b[0m \u001b[0mstation_id\u001b[0m \u001b[0;34m=\u001b[0m \u001b[0mstation_collection\u001b[0m\u001b[0;34m[\u001b[0m\u001b[0;36m0\u001b[0m\u001b[0;34m]\u001b[0m\u001b[0;34m.\u001b[0m\u001b[0mid\u001b[0m\u001b[0;34m\u001b[0m\u001b[0;34m\u001b[0m\u001b[0m\n\u001b[0;32m---> 15\u001b[0;31m \u001b[0mstation_measurement\u001b[0m \u001b[0;34m=\u001b[0m \u001b[0mmeasurements\u001b[0m\u001b[0;34m.\u001b[0m\u001b[0mread_measurements_by_station_id_list\u001b[0m\u001b[0;34m(\u001b[0m\u001b[0mstation_id\u001b[0m\u001b[0;34m)\u001b[0m\u001b[0;34m\u001b[0m\u001b[0;34m\u001b[0m\u001b[0m\n\u001b[0m\u001b[1;32m     16\u001b[0m \u001b[0;34m\u001b[0m\u001b[0m\n\u001b[1;32m     17\u001b[0m \u001b[0;34m\u001b[0m\u001b[0m\n",
      "\u001b[0;31mAttributeError\u001b[0m: module 'blume.measurements' has no attribute 'read_measurements_by_station_id_list'"
     ],
     "ename": "AttributeError",
     "evalue": "module 'blume.measurements' has no attribute 'read_measurements_by_station_id_list'",
     "output_type": "error"
    }
   ],
   "source": [
    "#Scrape newest/available data from the Blume-Website\n",
    "df = client.get_blume_measurments()\n",
    "df = client.clean_data(df)\n",
    "\n",
    "#Create Measurements and append to local storage of data (JSON)\n",
    "online_measurement = client.create_measurements(df)\n",
    "\n",
    "#Initially load all Stations from local storage (JSON)\n",
    "station.init_stations()\n",
    "#Source all available Information from local storage to pandas df\n",
    "station_collection = Station.station_collection\n",
    "\n",
    "#get all available station ids and use them to get all measurements from all\n",
    "# stations\n",
    "station_ids = [station.id for station in station_collection]\n",
    "all_station_measurements = measurements.read_measurements_by_station_id_list(\n",
    "    station_ids)\n",
    "\n",
    "#from all measurements, get pandas series and combine to global matrix\n",
    "df_local = [m.dataframe for m in all_station_measurements]\n",
    "df_global = pd.concat(df_local, axis=1)\n",
    "\n",
    "\n",
    "print(df_global)\n",
    "\n"
   ]
  },
  {
   "cell_type": "code",
   "execution_count": null,
   "outputs": [],
   "source": [
    "\n"
   ],
   "metadata": {
    "collapsed": false,
    "pycharm": {
     "name": "#%%\n"
    }
   }
  }
 ],
 "metadata": {
  "kernelspec": {
   "display_name": "Python3.6_BA (Python_BA)",
   "language": "python",
   "name": "python_ba"
  },
  "language_info": {
   "codemirror_mode": {
    "name": "ipython",
    "version": 3
   },
   "file_extension": ".py",
   "mimetype": "text/x-python",
   "name": "python",
   "nbconvert_exporter": "python",
   "pygments_lexer": "ipython3",
   "version": "3.6.8"
  },
  "pycharm": {
   "stem_cell": {
    "cell_type": "raw",
    "source": [],
    "metadata": {
     "collapsed": false
    }
   }
  }
 },
 "nbformat": 4,
 "nbformat_minor": 2
}